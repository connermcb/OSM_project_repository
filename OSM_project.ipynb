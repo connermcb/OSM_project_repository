{
 "cells": [
  {
   "cell_type": "markdown",
   "metadata": {},
   "source": [
    "# OpenStreetMap Data Wrangling Project\n"
   ]
  },
  {
   "cell_type": "markdown",
   "metadata": {},
   "source": [
    "The city I chose to work with initially was Austin, Texas. \n",
    "\n",
    "* http://www.openstreetmap.org/relation/113314\n",
    "* https://mapzen.com/data/metro-extracts/metro/austin_texas/\n",
    "\n",
    "I chose this city because it's the place I presently call home, and tackling the Austin data set gives me a chance to get better acquainted with the place I live. "
   ]
  },
  {
   "cell_type": "markdown",
   "metadata": {},
   "source": [
    "## General Audit and Overview\n",
    "\n",
    "As a preliminary step to working with irregularities in the data set, I'll take a look at the distribution of tags to see which are abundant enough to serve as good data wrangling practice. I've created an Audit Class for the initial survey of the data file, and I'll start by creating a Audit object for the Austin OSM file and getting some preliminary stats."
   ]
  },
  {
   "cell_type": "code",
   "execution_count": 1,
   "metadata": {
    "collapsed": false
   },
   "outputs": [],
   "source": [
    "import osm_auditor"
   ]
  },
  {
   "cell_type": "code",
   "execution_count": 2,
   "metadata": {
    "collapsed": false
   },
   "outputs": [
    {
     "name": "stdout",
     "output_type": "stream",
     "text": [
      "Opened OSM file size = 1415.3 megabytes\n",
      "Counting element tags in file...\n",
      "Relations in austin_texas.osm = 2400\n",
      "Ways in austin_texas.osm = 669817\n",
      "Nodes in austin_texas.osm = 6389941\n"
     ]
    }
   ],
   "source": [
    "austin = osm_auditor.Audit(r'austin_texas.osm')\n",
    "austin.get_file_size()\n",
    "austin.get_osm_stats()"
   ]
  },
  {
   "cell_type": "markdown",
   "metadata": {},
   "source": [
    "## Detailed Audit\n",
    "\n",
    "The file looks like it has plenty of data points for wrangling, so next I'll look at some of the specific tags, performing a quick audit of each to see which might need cleaning. Since addresses make up a significant part of the OSM data, I'll focus on address tags. In the OSM data, address components - house number, street name, postal code, city name, etc. - are each (ideally) assigned a different tag. I'll start with postal code tag, creating a set of all unique instances contained in the data file, and then check for inconsistencies, formating issues or postal codes that fall outside of the Austin metro area."
   ]
  },
  {
   "cell_type": "code",
   "execution_count": 3,
   "metadata": {
    "collapsed": false
   },
   "outputs": [
    {
     "name": "stdout",
     "output_type": "stream",
     "text": [
      "Processing OSM file...\n",
      "Data processed in 142.8992 secs. \n",
      "Resulting set of tag names: \n",
      "\n",
      "{'78656', '78957', '78616', '78750', '78669', 'TX 78728', '78744', '78732', '78621', '78653', '78753', 'TX 78758', '78626', '78717', '78749', '78644', '78727', '78739', '78645', '78737', '78665', '78712', '76574-4649', '78613-2277', '78759-3504', 'TX 78724', '78731', '78620', '78742', '78613', '78738', '78676', '78640-6137', '78704-7205', '78728', '78602', '78660', '78758', '78628', 'TX 78745', '78729', '78617', '78747', '78664', '78759', '76574', '78640', '78754', '78746', '78758-7013', 'tx', '78735', '78646', '78704', '78654', '78722', '78681', 'Texas', '78733', '78723', '78719', '78642', '78752', '78741', '78724-1199', '78682', '78705', '78641', '78745', '78619', '78626\\u200e', '78757', '78652', '78736', '78615', '78751', '78612', '78724', 'TX 78613', '78680', 'TX 78735', '78704-5639', '78721', '78640-4520', '78691', '78666', '78756', '78705-5609', '78758-7008', '78610', '78703', '14150', '78726', '78663', '78725', '78748', '78728-1275', '78702', '78634', '78701', '78734', '78730', '78754-5701', '78753-4150'}\n"
     ]
    }
   ],
   "source": [
    "austin.audit_tags('addr:postcode')"
   ]
  },
  {
   "cell_type": "markdown",
   "metadata": {},
   "source": [
    "The postal code data shows minor inconsistencies such as the use of nine digit postal codes, the inclusion of the state abbreviation TX, a formating error, and one postal code (14150) from New York. On the whole, however, the data in the postal code field look relatively clean.\n",
    "\n",
    "Next I'll survey the addr:city field. "
   ]
  },
  {
   "cell_type": "code",
   "execution_count": 4,
   "metadata": {
    "collapsed": false
   },
   "outputs": [
    {
     "name": "stdout",
     "output_type": "stream",
     "text": [
      "Processing OSM file...\n",
      "Data processed in 145.9873 secs. \n",
      "Resulting set of tag names: \n",
      "\n",
      "{'Georgetown', 'San Gabriel Village Boulevard', 'Creedmoor', 'Dripping Springs', 'Taylor, TX', 'West Lake Hills', 'Cedar Park', 'Cedar Park, TX', 'Elgin, TX', 'Lakeway', 'Austin, TX', 'Bastrop', 'Buda', 'Georgetown, TX', 'Austin, Tx', 'Ste 128, Austin', 'Cedar Creek', 'Manchaca', 'Spicewood, TX', 'Dripping Springs TX', 'Dale', 'Bastrop, TX', 'kyle', 'Leander, TX', 'San Marcos', 'Manor', 'Austin;TX;USA', 'Lago Vista', 'Manchaca,', 'Maxwell', 'Sunset Valley', 'Del Valle', 'Smithville', 'Lost Pines', 'Webberville', 'Dripping Springs, Tx', 'Bee Cave', 'Kyle', 'N Austin', 'Spicewood', 'Elgin', 'Wimberley', 'Pflugerville, TX', 'Kyle, TX', 'Westlake Hills, TX', 'Round Rock', 'Taylor', 'Hutto', 'Jonestown', 'Barton Creek', 'austin', 'Driftwood', 'Round Rock, TX', 'Austin', 'Pflugerville', 'Liberty Hill', 'Leander'}\n"
     ]
    }
   ],
   "source": [
    "austin.audit_tags('addr:city')"
   ]
  },
  {
   "cell_type": "markdown",
   "metadata": {},
   "source": [
    "There are some similar issues with this field - capitalization, state abbreviations included, and missing city data evidenced by street names appearing as examples. Over all, though, the this data field is also relatively clean. \n",
    "\n",
    "I'll also try following the lead of the lessons and take a look at the addr:street field, focusing on the street type and looking for inconsistencies in formating. For this I'll rely on a particular method within the Audit Class."
   ]
  },
  {
   "cell_type": "code",
   "execution_count": 3,
   "metadata": {
    "collapsed": false
   },
   "outputs": [
    {
     "name": "stdout",
     "output_type": "stream",
     "text": [
      "Processing OSM file...\n",
      "Data processed in 142.4671 secs. \n",
      "Resulting set of tag values for street type: \n",
      "\n",
      "{'', 'Post', '#306', 'D1', 'Park', 'Lajitas', 'View', 'Media', 'Mohawk', 'Crescent', 'Cv', 'Run', 'Path', '#F-4', 'Tiempo', 'Tr', 'court', 'Royale', 'Road,1100', 'Wren', 'Lane', 'Dorado', '129', 'Alto', '#311', 'Boggy', '2244', '#B100', 'Jacinto', 'Tropez', 'Voyageurs', 'Pflugerville', 'Talamore', '45', 'Juniper', 'Fandango', 'Horn', 'Hat', 'Plaza', 'Toro', 'Limon', 'Highlander', 'Ave.', 'Edenderry', 'Fields', 'Grande', 'Liberty', 'Spicewood', '969', 'Ravine', '320', '104', 'Cave', 'Gonzales', 'Landing', 'Turn', 'Hollow', 'Mesa', 'Dale', 'Linda', 'RM1431', 'Calle', '1100', 'Quarry', 'Slew', 'Terrance', '#100', 'N', 'Gunsmoke', 'Vale', 'Blvd', 'Jr', '170', 'Bonanza', 'Barrhead', 'Rose', '1826', 'Highway', 'South', 'Claw', 'Harborway', 'Spring', '452', 'Flower', 'Willo', 'A500', 'Race', 'Oak', 'Saddles', 'F', '414', 'Birch', 'Flat', 'Tealwood', 'D5000', 'Arrow', 'Boulevard', 'Camelback', 'Divide', 'Dr.', '1805', 'IH35', 'Folkway', 'Cantera', 'William', 'North', 'lane', 'Branch', 'Fairway', 'Knoll', 'Wheel', 'Pkwy', 'Dalmahoy', 'Corners', 'Ridge', 'Green', 'Pawnee', 'Creek', 'Criswell', 'West', 'Falcon', 'Track', 'Reinhardt', 'Pace', 'Tundra', 'Apache', 'Ps', 'Ct', 'Mallow', 'Rock', 'Germaine', 'Grotto', 'Strip', 'way', 'Bluff', 'Melody', 'East', 'Avene', 'Catcher', 'Chase', 'Gulch', '#L2', 'End', 'H', 'Rd', '280', 'Catorce', 'Trl', 'Sundown', 'Sunfish', 'Frijolita', 'Affirmed', 'Norte', 'FM1431', 'Bend', '2222', '117', 'Point', 'Chavez', 'Austin', 'Row', 'Kiss', 'Bonita', '#608', '#4', 'Speedway', 'Way', 'B', 'Hall', 'Bottom', 'Street', '12', 'Trail', '812', 'Leon', 'Skyway', 'Southview', 'Hilldale', 'Clark', 'Lancaster', 'Casitas', 'St.', 'St', '#600', '275', 'Van', 'J', 'Costa', '8', '71', 'Crestmont', '290', 'Summit', '#101', 'Dunes', 'E', 'Withers', '#406', 'cove', 'Sky', '459', '6', 'Moor', 'Expressway', 'Pl', 'Overlook', 'Cannon', 'Verdes', 'Fork', 'Clearwater', 'Avenue', 'Northwest', 'W', 'Greenway', 'Stakes', 'Lair', 'suite#L131', '#104', 'SB', 'Ave', '#150', 'Triangle', '#260', 'Sidewinder', 'Estates', '400', 'Season', 'Sutton', 'Vanguard', '1327', 'Canterwood', 'Grove', 'Place', '213', '298', 'Drive/Rd', '#8', 'Verde', 'Sandpiper', 'Corral', 'Dancer', '535', 'IH-35', 'Drive', 'Alley', 'Thunder', 'York', 'Mist', '35', 'Stonebridge', 'C', 'River', 'Picadilly', 'Glen', 'Pine', 'Dog', '#140', 'Hwy', 'Maverick', 'Loop', 'Hambletonian', 'Gallop', 'Pass', 'Sage', '183', '79', '2243', 'Colorado', 'Raphael', 'Valley', 'C-200', 'Walk', 'Atlantic', 'Cutoff', 'Frontage', '1431', '100', 'Capri', 'Arbolago', 'Madre', 'Turnback', 'Lake', 'Cc', 'texas', 'Caliche', 'Claro', 'D', 'K', 'Viento', 'Bridge', 'Viejo', 'Iron', '1825', 'Real', 'Pointe', '#200N', 'Montana', '2769', '1869', 'Crest', 'Print', '619', 'Castle', 'Acres', '120', 'Fleur', 'Springwater', '#300', '7', 'G', 'Lido', '1625', '685', 'Comet', 'Ln', 'pass', '1626', 'Parkway', 'Forest', 'Canyon', '150', 'Crossing', 'Ford', 'Mas', '#G-145', 'Silence', 'Adventurer', 'Galaxy', '620', 'Skyview', 'Porpoise', 'Cliff', 'Range', 'Meadows', '138', 'Dublin', 'Dr', 'Haven', '130', '301', 'Stonehedge', 'Medalist', '3177', 'James', 'Station', 'Roost', 'Seawind', 'Circle', 'Wood', 'Carrara', '#425', 'Navajo', 'Fortuna', 'Terrace', 'Gap', 'Thunderbird', 'Blvd.', '#3000a', 'Seco', 'CastlePath', 'Maple', 'Tahoe', 'Corta', 'Mountain', 'Dragon', 'Garden', 'Mirage', 'IH35,', 'Spur', '5.700', 'Tarlton', 'Lodge', 'Pathway', 'Mirador', 'Square', 'Cobblestone', 'Road', 'Rope', 'Dance', 'Yard', 'Meridian', 'Firebird', '#2', 'Alps', 'Oaks', 'Cove', '973', 'A-15', 'Lonesome', '#203', 'Glade', 'Woods', 'Ledge', 'C1-100', '163', 'Sioux', 'Sunterro', 'Merimac', 'Horse', 'Vista', 'Explorer', 'Oltorf', 'Wow', 'Camino', 'Welch', 'Island', 'I', 'Greens', '3', 'Ovlk', 'Amistad', 'Mariner', 'Sq', 'Comanche', 'Hill', 'Trace', 'Court', 'Mustang', 'Buckskin', 'street', 'Lanes', 'I35', 'A', 'Blackfoot', 'Skyline', 'Fort', 'Challenger', 'Malabar'}\n"
     ]
    }
   ],
   "source": [
    "austin.audit_streets()"
   ]
  },
  {
   "cell_type": "markdown",
   "metadata": {},
   "source": [
    "The street type data, in contrast with the postal codes, is a complete mess. The most common problem appears to be that users didn't bother to include a street type when entering an location address. Other issues include inconsistent abbreviations, capitalization, and apartment numbers or letters as the last element in the street field instead of street type. \n",
    "\n",
    "The addr:street field would be an excellent candidate for munging, but since it was already demonstrated in the lessons, I'm going to focus instead on a different tag, population. My suspicion is that OSM population data relies on US Census data from 2010 and is probably outdated and contains significant inaccuracies. For this data wrangling exercise, I'll focus on updating the population tags for Austin and its satellite towns.\n",
    "\n",
    "OpenStreetMap refers to cities, towns, villages, and hamlets collectively as settlements. Settlement data nodes include tags for population and a population dependent tag for settlement types (listed above) under the tag name 'place'. The table below outlines the possible values for the 'place' tag and the respective relations to population figures. "
   ]
  },
  {
   "cell_type": "markdown",
   "metadata": {},
   "source": [
    "Tag|Population|Description\n",
    "---|----------|-----------\n",
    "place=city|100,000+|\n",
    "place=town|10,000 - 100,000|an urban settlement with local importance\n",
    "place=village|<10,000|incorporated municipality, regardless of its population\t\n",
    "place=hamlet|<100|unincorporated settlement with less than 100 inhabitants\n",
    "place=isolated_dwelling|<= 2 households|the smallest kind of human settlement"
   ]
  },
  {
   "cell_type": "markdown",
   "metadata": {},
   "source": [
    "To clean and update these two data points, population and settlement type, I've created a Popul Class with methods for parsing and cleaning the target data as well as for writing it to csv files and an SQL database. "
   ]
  },
  {
   "cell_type": "code",
   "execution_count": 5,
   "metadata": {
    "collapsed": false
   },
   "outputs": [],
   "source": [
    "import osm_popul_wrangle as popul"
   ]
  },
  {
   "cell_type": "markdown",
   "metadata": {},
   "source": [
    "I'll start by creating a Popul object for the Austin data file, and since we've already seen the file stats, I'll jump right into processing the data. The .process_data() method will parse the Austin XML file and extract settlement nodes. All the node information will be written to csv files. The method makes use of shape_data() helper function that compares OSM population values to 2016 estimates and writes both values to the csv file. The values for the 'place' tags are also checked against the 2016 population estimates and updated accordingly. A boolean value marks whether the 'place' tag value has been changed.\n",
    "\n",
    "The 2016 Texas population estimates are downloaded in a csv file from Texas Demographic Center (TDC) website and parsed into a dictionary with settlement names as keys and a two element list as values. The lists contain 2010 Census data and the 2016 TDC estimates. The TDC csv file is loaded and parsed in the .get_popul_est() method."
   ]
  },
  {
   "cell_type": "code",
   "execution_count": 6,
   "metadata": {
    "collapsed": false
   },
   "outputs": [
    {
     "name": "stdout",
     "output_type": "stream",
     "text": [
      "{'Irving': ['216290', '239740'], 'Laguna Heights CDP': ['3488', '4102'], 'Lakeside City (Archer)': ['997', '1010'], 'Angus': ['414', '438'], 'Lindale': ['4818', '5495'], 'Bryson': ['539', '558'], 'Louise CDP': ['995', '1005'], 'Toco': ['75', '80'], 'Cumby': ['777', '812'], 'Yantis': ['388', '396'], 'White Settlement': ['16116', '17204'], 'Tivoli CDP': ['479', '506'], 'Premont': ['2653', '2628'], 'Waller': ['2326', '2653'], 'Krugerville': ['1662', '1987'], 'Natalia': ['1431', '1485'], 'Venus': ['2960', '3349'], 'Alto Bonito Heights CDP': ['342', '361'], \"Port O'Connor CDP\": ['1253', '1175'], 'Kingsbury CDP': ['782', '873']}\n"
     ]
    }
   ],
   "source": [
    "# Initialize Austin Popul object\n",
    "aust_popul = popul.Popul(r'austin_texas.osm')\n",
    "# Create estimates dictionary\n",
    "aust_popul.get_popul_est()\n",
    "# Print sample of population estimates dictionary\n",
    "print(dict(list(aust_popul.pop_est.items())[:20]))"
   ]
  },
  {
   "cell_type": "markdown",
   "metadata": {},
   "source": [
    "With the Austin Popul object initialized and the estimates dictionary in place, we can get processing!"
   ]
  },
  {
   "cell_type": "code",
   "execution_count": 7,
   "metadata": {
    "collapsed": false
   },
   "outputs": [
    {
     "name": "stdout",
     "output_type": "stream",
     "text": [
      "Processing OSM file...\n",
      "Data processed in 166.7125 secs. \n",
      "29 population tags found and cleaned.\n"
     ]
    }
   ],
   "source": [
    "aust_popul.process_data()"
   ]
  },
  {
   "cell_type": "markdown",
   "metadata": {
    "collapsed": true
   },
   "source": [
    "With the data parsed, cleaned, and written to csv files, I'll now move to the next step of saving the csv data as tables in an SQL database and then examining the data. First the SQL database."
   ]
  },
  {
   "cell_type": "code",
   "execution_count": 9,
   "metadata": {
    "collapsed": false
   },
   "outputs": [],
   "source": [
    "aust_popul.write_sql()"
   ]
  },
  {
   "cell_type": "markdown",
   "metadata": {},
   "source": [
    "Next, I'll reference the SQL tables to get a count of how many population tags were revised."
   ]
  },
  {
   "cell_type": "code",
   "execution_count": 10,
   "metadata": {
    "collapsed": false
   },
   "outputs": [
    {
     "name": "stdout",
     "output_type": "stream",
     "text": [
      "Number of revised populations = 29\n",
      "\n"
     ]
    }
   ],
   "source": [
    "aust_popul.get_pop_edits()"
   ]
  },
  {
   "cell_type": "markdown",
   "metadata": {},
   "source": [
    "Let's take a look at a rundown of the settlements that were revised and the differences between the OSM population data and the TDC estimates. Included is are the respective means for overall population change and proportional population change."
   ]
  },
  {
   "cell_type": "code",
   "execution_count": 11,
   "metadata": {
    "collapsed": false
   },
   "outputs": [
    {
     "name": "stdout",
     "output_type": "stream",
     "text": [
      "          Settlement  Increase  Proportion\n",
      "0      Sunset Valley       -60      -0.076\n",
      "1          Jonestown      -103      -0.049\n",
      "2               Hays         2       0.008\n",
      "3          Wimberley        42       0.016\n",
      "4      Mountain City        21       0.030\n",
      "5       Liberty Hill       128       0.085\n",
      "6            Bastrop       687       0.091\n",
      "7             Thrall        79       0.093\n",
      "8         Bear Creek        41       0.109\n",
      "9         San Leanna        56       0.115\n",
      "10            Taylor      1895       0.124\n",
      "11       Rollingwood       171       0.125\n",
      "12         Woodcreek       216       0.147\n",
      "13         Creedmoor        28       0.147\n",
      "14            Austin    131391       0.166\n",
      "15      Pflugerville      9377       0.200\n",
      "16        Round Rock     20181       0.202\n",
      "17           Lakeway      2554       0.224\n",
      "18        San Marcos     13165       0.293\n",
      "19              Kyle     10309       0.368\n",
      "20       Webberville       120       0.390\n",
      "21        Georgetown     22009       0.518\n",
      "22           Volente       213       0.553\n",
      "23          Bee Cave      2192       0.558\n",
      "24  Dripping Springs       959       0.572\n",
      "25        Briarcliff       684       0.803\n",
      "26             Hutto     12899       1.348\n",
      "27             Manor      5239       1.972\n",
      "28              Buda     10093       2.218\n",
      "\n",
      "Mean population increase = 8434.07  \n",
      "Mean proportional increase = 0.39135517241379314\n",
      "\n"
     ]
    }
   ],
   "source": [
    "aust_popul.get_pop_change_list()\n",
    "aust_popul.get_averages()"
   ]
  },
  {
   "cell_type": "markdown",
   "metadata": {},
   "source": [
    "Central Texas is growing at a rapid pace and as expected most of the settlements in the Austin metro area saw at least some change in population. Some of the settlements closest to Austin, within reasonable commuting distance, such as Buda, Kyle, Hutto and Manor saw significant upward population shifts. Did any of these settlements also see a change in 'place' tag values? The Popul class includes a method for referencing this against the SQL tables created earlier."
   ]
  },
  {
   "cell_type": "code",
   "execution_count": 12,
   "metadata": {
    "collapsed": false
   },
   "outputs": [
    {
     "name": "stdout",
     "output_type": "stream",
     "text": [
      "Number of place designations changed = 1\n",
      "\n",
      "  Settlement New Designation\n",
      "0       Buda            town\n",
      "\n"
     ]
    }
   ],
   "source": [
    "aust_popul.get_designation_changes()"
   ]
  },
  {
   "cell_type": "markdown",
   "metadata": {},
   "source": [
    "Buda, Texas just to the south of Austin more than tripled in size and moved from the village classification to being a town by OSM 'place' tag standards.\n",
    "\n",
    "Lastly, I'll check the sources for the OSM population data to test my initial hunch that most of it is sourced from the 2010 US Census. "
   ]
  },
  {
   "cell_type": "code",
   "execution_count": 13,
   "metadata": {
    "collapsed": false
   },
   "outputs": [
    {
     "name": "stdout",
     "output_type": "stream",
     "text": [
      "      Data Source  Count\n",
      "0            None     23\n",
      "1  US Census 2010      6\n",
      "\n"
     ]
    }
   ],
   "source": [
    "aust_popul.get_sources()"
   ]
  },
  {
   "cell_type": "markdown",
   "metadata": {
    "collapsed": true
   },
   "source": [
    "The auditing, wrangling, and cleaning I'll set up programmatically should be applicable to the OSM data of any area within Texas. To test it's applicability, I'll test the class on another Texas metro area OSM file, Houston. "
   ]
  },
  {
   "cell_type": "code",
   "execution_count": 14,
   "metadata": {
    "collapsed": true
   },
   "outputs": [],
   "source": [
    "# Initialize Houston Popul object\n",
    "houst_popul = popul.Popul(r'houston_texas.osm')\n",
    "# Create estimates dictionary\n",
    "houst_popul.get_popul_est()"
   ]
  },
  {
   "cell_type": "markdown",
   "metadata": {},
   "source": [
    "With a new Popul object initialized for a different Texas metro area, I'll run through the data."
   ]
  },
  {
   "cell_type": "code",
   "execution_count": 15,
   "metadata": {
    "collapsed": false
   },
   "outputs": [
    {
     "name": "stdout",
     "output_type": "stream",
     "text": [
      "Processing OSM file...\n",
      "Data processed in 93.5103 secs. \n",
      "101 population tags found and cleaned.\n"
     ]
    }
   ],
   "source": [
    "houst_popul.process_data()"
   ]
  },
  {
   "cell_type": "code",
   "execution_count": 16,
   "metadata": {
    "collapsed": false
   },
   "outputs": [
    {
     "name": "stdout",
     "output_type": "stream",
     "text": [
      "Number of revised populations = 101\n",
      "\n"
     ]
    }
   ],
   "source": [
    "houst_popul.write_sql()\n",
    "houst_popul.get_pop_edits()"
   ]
  },
  {
   "cell_type": "code",
   "execution_count": 17,
   "metadata": {
    "collapsed": false
   },
   "outputs": [
    {
     "name": "stdout",
     "output_type": "stream",
     "text": [
      "              Settlement  Increase  Proportion\n",
      "0           Roman Forest     -1423      -0.428\n",
      "1             Plum Grove      -354      -0.355\n",
      "2         Surfside Beach      -292      -0.338\n",
      "3           Todd Mission       -46      -0.289\n",
      "4                 Bonney      -113      -0.260\n",
      "5              Kendleton      -133      -0.248\n",
      "6                Orchard      -113      -0.231\n",
      "7          Meadows Place     -1470      -0.222\n",
      "8                  Kemah      -497      -0.201\n",
      "9               Woodloch       -50      -0.197\n",
      "10     Brookside Village      -361      -0.181\n",
      "11              Kenefick      -118      -0.165\n",
      "12           Bayou Vista      -204      -0.120\n",
      "13          Oyster Creek      -121      -0.098\n",
      "14          Dayton Lakes       -10      -0.094\n",
      "15              Daisetta       -97      -0.089\n",
      "16     Clear Lake Shores      -105      -0.081\n",
      "17         West Columbia      -269      -0.064\n",
      "18       Oak Ridge North      -178      -0.053\n",
      "19             Needville      -152      -0.044\n",
      "20              Freeport      -486      -0.039\n",
      "21             Thompsons       -12      -0.038\n",
      "22              Bay City      -659      -0.036\n",
      "23              Richmond      -149      -0.011\n",
      "24            Woodbranch       -14      -0.010\n",
      "25               El Lago       -24      -0.008\n",
      "26   Piney Point Village        -2      -0.001\n",
      "27           Jones Creek        -1      -0.000\n",
      "28            Nassau Bay        27       0.007\n",
      "29          Lake Jackson       529       0.019\n",
      "..                   ...       ...         ...\n",
      "71            Fairchilds       131       0.153\n",
      "72       Southside Place       251       0.154\n",
      "73             Deer Park      4575       0.154\n",
      "74               Webster      1543       0.155\n",
      "75             La Marque      2175       0.155\n",
      "76                  Nome        77       0.156\n",
      "77               Tomball      1594       0.159\n",
      "78              Richwood       533       0.160\n",
      "79              Seabrook      1975       0.165\n",
      "80      Hilshire Village       121       0.166\n",
      "81                 Pleak       196       0.166\n",
      "82              Pattison        82       0.181\n",
      "83            Sugar Land     15018       0.188\n",
      "84           League City     17151       0.205\n",
      "85                Arcola       364       0.222\n",
      "86              Santa Fe      2435       0.230\n",
      "87              Pearland     21704       0.239\n",
      "88             Liverpool       108       0.255\n",
      "89             Rosenberg      9036       0.284\n",
      "90           Pine Island       280       0.337\n",
      "91           Iowa Colony       356       0.379\n",
      "92          Prairie View      1783       0.383\n",
      "93            Brookshire      1562       0.422\n",
      "94              Magnolia       609       0.482\n",
      "95            Shenandoah      1016       0.537\n",
      "96        Brazos Country       223       0.772\n",
      "97                Manvel      3571       0.776\n",
      "98                  Cove       232       0.776\n",
      "99              Quintana        67       1.426\n",
      "100             Fulshear      6280       6.488\n",
      "\n",
      "[101 rows x 3 columns]\n",
      "\n",
      "Mean population increase = 3536.2  \n",
      "Mean proportional increase = 0.15414950495049504\n",
      "\n"
     ]
    }
   ],
   "source": [
    "houst_popul.get_pop_change_list()\n",
    "houst_popul.get_averages()"
   ]
  },
  {
   "cell_type": "markdown",
   "metadata": {},
   "source": [
    "So far the Popul Class has held up with a new data set, but the changes list presents some counterintuitive results that deserve follow up. Again, most of the state of Texas has experienced a steady if not accelerating growth trend since the last census. Maybe some negative growth values could be explained away to urban migration. Nonetheless the negative growth values for some of the settlements in the list above don't make sense. I'll work with Roman Forest, Texas as an example. First let's check the TDC estimates in our estimates dictionary."
   ]
  },
  {
   "cell_type": "code",
   "execution_count": 18,
   "metadata": {
    "collapsed": false
   },
   "outputs": [
    {
     "name": "stdout",
     "output_type": "stream",
     "text": [
      "['1538', '1901']\n"
     ]
    }
   ],
   "source": [
    "print(houst_popul.pop_est['Roman Forest'])"
   ]
  },
  {
   "cell_type": "markdown",
   "metadata": {},
   "source": [
    "I crossed checked these values ([US Census 2010, TDC 2016 Estimate]) against other online sources and they check out. This puts the OSM data in question. Let's look at the OSM population tag value saved to the SQL database."
   ]
  },
  {
   "cell_type": "code",
   "execution_count": 20,
   "metadata": {
    "collapsed": false
   },
   "outputs": [
    {
     "name": "stdout",
     "output_type": "stream",
     "text": [
      "Roman Forest 3324\n"
     ]
    }
   ],
   "source": [
    "import sqlite3\n",
    "p3_db = sqlite3.connect(r'p3_osm5')\n",
    "curs = p3_db.cursor()\n",
    "curs.execute(\"SELECT name, osm_population FROM settlement_popul WHERE name = 'Roman Forest'\")\n",
    "name, osm_popul = curs.fetchall()[0]\n",
    "print(name, osm_popul)"
   ]
  },
  {
   "cell_type": "markdown",
   "metadata": {},
   "source": [
    "The OSM population for Roman Forest, Texas is clearly inaccurate and explains the apparent negative growth. At least in the case of Roman Forest (and more than likely in other cases),  the population change figure is actually a measure of degree of inaccuracy."
   ]
  },
  {
   "cell_type": "code",
   "execution_count": 21,
   "metadata": {
    "collapsed": false
   },
   "outputs": [
    {
     "name": "stdout",
     "output_type": "stream",
     "text": [
      "Number of place designations changed = 15\n",
      "\n",
      "       Settlement New Designation\n",
      "0        Pasadena            city\n",
      "1    Jacinto City            town\n",
      "2        Magnolia         village\n",
      "3    Dayton Lakes          hamlet\n",
      "4         Webster            town\n",
      "5    Prairie View         village\n",
      "6        Quintana         village\n",
      "7   West Columbia         village\n",
      "8        Pearland            city\n",
      "9          Sweeny         village\n",
      "10    League City            city\n",
      "11        Liberty         village\n",
      "12           Ames         village\n",
      "13        Anahuac         village\n",
      "14         Arcola         village\n",
      "\n"
     ]
    }
   ],
   "source": [
    "houst_popul.get_designation_changes()"
   ]
  },
  {
   "cell_type": "code",
   "execution_count": 22,
   "metadata": {
    "collapsed": false
   },
   "outputs": [
    {
     "name": "stdout",
     "output_type": "stream",
     "text": [
      "      Data Source  Count\n",
      "0            None     92\n",
      "1  US Census 2010      6\n",
      "2       US Census      3\n",
      "\n"
     ]
    }
   ],
   "source": [
    "houst_popul.get_sources()"
   ]
  },
  {
   "cell_type": "markdown",
   "metadata": {},
   "source": [
    "## Suggestions for Further Analyzing and Improving Data\n",
    "\n",
    "As we saw with address tag data, user inputted data are good candidates for improving the accuracy and reliability of OSM information. With regard to the population tag values, I would suggest investigating negative growth values as a likely sign of inaccurate OSM figures. This might involve corroborating population figures with a third data source."
   ]
  },
  {
   "cell_type": "markdown",
   "metadata": {},
   "source": [
    "## Conclusions\n",
    "\n",
    "The Austin OSM data set offered abundant opportunities for data munging. Address tags were most in need of attention and any use of OSM address data would have required a significant investment of time in auditing and cleaning. The population field I settled on, while ultimately less challenging programmatically, gave me practice in data corroboration and correction accross sources. Where the address fields data would have required data correction and standardization, the population field basically amounted to an exercise in the updating of data, an exercise that yielded a Python class that I was able to apply to other metro areas within Texas with consistent results. The population growth statistics gleaned during updating demonstrates that federal censuses are conducted too infrequently to be relied on as an accurate measure of rapidly growing population across a whole decade. The state population estimates offer an interrum proxy for more current and reliable figures. "
   ]
  }
 ],
 "metadata": {
  "anaconda-cloud": {},
  "kernelspec": {
   "display_name": "Python [default]",
   "language": "python",
   "name": "python3"
  },
  "language_info": {
   "codemirror_mode": {
    "name": "ipython",
    "version": 3
   },
   "file_extension": ".py",
   "mimetype": "text/x-python",
   "name": "python",
   "nbconvert_exporter": "python",
   "pygments_lexer": "ipython3",
   "version": "3.5.2"
  }
 },
 "nbformat": 4,
 "nbformat_minor": 2
}
