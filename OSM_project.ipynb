{
 "cells": [
  {
   "cell_type": "markdown",
   "metadata": {},
   "source": [
    "# OpenStreetMap Data Wrangling Project\n"
   ]
  },
  {
   "cell_type": "markdown",
   "metadata": {},
   "source": [
    "The city I chose to work with initially was Austin, Texas. \n",
    "\n",
    "* http://www.openstreetmap.org/relation/113314\n",
    "* https://mapzen.com/data/metro-extracts/metro/austin_texas/\n",
    "\n",
    "I chose this city because it's the place I presently call home. Tackling the Austin data set gives me a chance to get more acquainted with the place I live. \n",
    "\n",
    "The auditing, wrangling, and cleaning I'll set up programmatically can be applied to any area of Texas. Later in the report I'll demonstrate how the wrangling can applicable beyond the test data set."
   ]
  },
  {
   "cell_type": "markdown",
   "metadata": {},
   "source": [
    "## Problems Encountered in Data Set\n",
    "\n",
    "As a preliminary step to working with irregularities in the data set, I'll take a look at the distribution of tags to see which are abundant enough to serve as good data wrangling practice."
   ]
  },
  {
   "cell_type": "code",
   "execution_count": 5,
   "metadata": {
    "collapsed": false
   },
   "outputs": [
    {
     "name": "stdout",
     "output_type": "stream",
     "text": [
      "Processing OSM file...\n",
      "Data processed in 162.0023 secs. \n",
      "33 population tags found and cleaned.\n",
      "\n",
      "\n",
      "Number of revised populations = 33\n",
      "\n",
      "          Settlement  Increase  Proportion\n",
      "0      Sunset Valley       -60      -0.076\n",
      "1          Jonestown      -103      -0.049\n",
      "2               Hays         2       0.008\n",
      "3          Wimberley        42       0.016\n",
      "4      Mountain City        21       0.030\n",
      "5       Liberty Hill       128       0.085\n",
      "6            Bastrop       687       0.091\n",
      "7             Thrall        79       0.093\n",
      "8         Bear Creek        41       0.109\n",
      "9         San Leanna        56       0.115\n",
      "10            Taylor      1895       0.124\n",
      "11       Rollingwood       171       0.125\n",
      "12         Woodcreek       216       0.147\n",
      "13         Creedmoor        28       0.147\n",
      "14            Austin    131391       0.166\n",
      "15            Austin    131391       0.166\n",
      "16      Pflugerville      9377       0.200\n",
      "17        Round Rock     20181       0.202\n",
      "18           Lakeway      2554       0.224\n",
      "19           Lakeway      2554       0.224\n",
      "20        San Marcos     13165       0.293\n",
      "21              Kyle     10309       0.368\n",
      "22              Kyle     10309       0.368\n",
      "23       Webberville       120       0.390\n",
      "24        Georgetown     22009       0.518\n",
      "25           Volente       213       0.553\n",
      "26          Bee Cave      2192       0.558\n",
      "27          Bee Cave      2192       0.558\n",
      "28  Dripping Springs       959       0.572\n",
      "29        Briarcliff       684       0.803\n",
      "30             Hutto     12899       1.348\n",
      "31             Manor      5239       1.972\n",
      "32              Buda     10093       2.218\n",
      "\n",
      "Mean population increase = 11849.52  \n",
      "Mean proportional increase = 0.38382424242424246\n",
      "\n",
      "Number of place designations changed = 1\n",
      "\n",
      "  Settlement New Designation\n",
      "0       Buda            town\n",
      "\n"
     ]
    }
   ],
   "source": [
    "import osm_popul_wrangler"
   ]
  },
  {
   "cell_type": "markdown",
   "metadata": {},
   "source": [
    "## Preliminary Audit Results\n",
    "\n",
    "Among the most abundant node labels are address labels, which were the focus for wrangling demonstrated in P3 lessons. \n",
    "\n",
    "Instead of focusing on correcting address data, I'll look at data that is correctly formatted but no longer current, specifically population for the primary and satellite urban centers in the focus area. Nodes marking urban centers along with the city or town name include population and place keys for populated settlements whose values are determined by population level.\n",
    "\n",
    "\n",
    "\n",
    "Tag|Population|Description\n",
    "---|----------|-----------\n",
    "place=city|100,000+|\n",
    "place=town|10,000 - 100,000|an urban settlement with local importance\n",
    "place=village|<10,000|incorporated municipality, regardless of its population\t\n",
    "place=hamlet|<100|unincorporated settlement with less than 100 inhabitants\n",
    "place=isolated_dwelling|<= 2 households|the smallest kind of human settlement\n",
    "\n"
   ]
  },
  {
   "cell_type": "code",
   "execution_count": null,
   "metadata": {
    "collapsed": true
   },
   "outputs": [],
   "source": []
  },
  {
   "cell_type": "code",
   "execution_count": null,
   "metadata": {
    "collapsed": true
   },
   "outputs": [],
   "source": []
  }
 ],
 "metadata": {
  "anaconda-cloud": {},
  "kernelspec": {
   "display_name": "Python [default]",
   "language": "python",
   "name": "python3"
  },
  "language_info": {
   "codemirror_mode": {
    "name": "ipython",
    "version": 3
   },
   "file_extension": ".py",
   "mimetype": "text/x-python",
   "name": "python",
   "nbconvert_exporter": "python",
   "pygments_lexer": "ipython3",
   "version": "3.5.2"
  }
 },
 "nbformat": 4,
 "nbformat_minor": 2
}
