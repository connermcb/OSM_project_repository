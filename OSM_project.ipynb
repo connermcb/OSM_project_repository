{
 "cells": [
  {
   "cell_type": "markdown",
   "metadata": {},
   "source": [
    "# OpenStreetMap Data Wrangling Project\n"
   ]
  },
  {
   "cell_type": "markdown",
   "metadata": {},
   "source": [
    "The city whose OSM data set I've chosen to wrangle is Austin, Texas. \n",
    "\n",
    "* http://www.openstreetmap.org/relation/113314\n",
    "* https://mapzen.com/data/metro-extracts/metro/austin_texas/\n",
    "\n",
    "I chose this city because it's the place I presently call home. Tackling the Austin data set gives me a chance to get more acquainted with the place I live."
   ]
  },
  {
   "cell_type": "markdown",
   "metadata": {},
   "source": [
    "## Problems Encountered in Data Set\n",
    "\n",
    "As a preliminary step to working with irregularities in the data set, I'll take a look at the distribution of tags to see which are abundant enough to serve as good data wrangling practice."
   ]
  },
  {
   "cell_type": "code",
   "execution_count": 40,
   "metadata": {
    "collapsed": false
   },
   "outputs": [
    {
     "name": "stdout",
     "output_type": "stream",
     "text": [
      "\n",
      "Abundant tags in <_io.TextIOWrapper name='austin_texas.osm' mode='r' encoding='utf8'>\n",
      "{'access': [4438, ['151576347']],\n",
      " 'addr:city': [3710, ['280231689']],\n",
      " 'addr:housenumber': [333664, ['280231689']],\n",
      " 'addr:postcode': [86642, ['281362888']],\n",
      " 'addr:state': [3353, ['280231689']],\n",
      " 'addr:street': [333622, ['280231689']],\n",
      " 'amenity': [8153, ['152713302']],\n",
      " 'barrier': [1225, ['26546151']],\n",
      " 'bicycle': [1429, ['2539446524']],\n",
      " 'bridge': [1905, ['2089441906']],\n",
      " 'building': [584296, ['365275738']],\n",
      " 'coa:place_id': [13715, ['3823901373']],\n",
      " 'created_by': [7297, ['151756603']],\n",
      " 'ele': [1490, ['151321672']],\n",
      " 'foot': [1327, ['2539446524']],\n",
      " 'gnis:county_id': [1060, ['356698556']],\n",
      " 'gnis:created': [1099, ['356698556']],\n",
      " 'gnis:feature_id': [1360, ['356698556']],\n",
      " 'gnis:state_id': [1059, ['356698556']],\n",
      " 'height': [443886, ['3842174484']],\n",
      " 'highway': [83748, ['26546008']],\n",
      " 'landuse': [2523, ['356724097']],\n",
      " 'lanes': [5459, ['4358672']],\n",
      " 'layer': [1927, ['153157946']],\n",
      " 'leisure': [2163, ['345306352']],\n",
      " 'maxspeed': [2610, ['2114507153']],\n",
      " 'name': [49681, ['151321672']],\n",
      " 'name_1': [2044, ['4531258']],\n",
      " 'natural': [4021, ['356699483']],\n",
      " 'note': [1147, ['356842473']],\n",
      " 'odbl': [7654, ['151399362']],\n",
      " 'old_ref': [1420, ['152675070']],\n",
      " 'oneway': [13784, ['4358672']],\n",
      " 'operator': [1637, ['152556944']],\n",
      " 'power': [7783, ['149066798']],\n",
      " 'public_transport': [2521, ['152393455']],\n",
      " 'ref': [5257, ['29591541']],\n",
      " 'service': [8656, ['599493155']],\n",
      " 'shop': [1319, ['152592341']],\n",
      " 'sidewalk': [2016, ['15283148']],\n",
      " 'source': [3741, ['152380666']],\n",
      " 'sport': [1047, ['356704598']],\n",
      " 'surface': [10049, ['152476203']],\n",
      " 'tiger:cfcc': [37239, ['4531227']],\n",
      " 'tiger:county': [37288, ['4531227']],\n",
      " 'tiger:name_base': [31080, ['4531258']],\n",
      " 'tiger:name_base_1': [3299, ['4531258']],\n",
      " 'tiger:name_direction_prefix': [3926, ['15104935']],\n",
      " 'tiger:name_type': [28560, ['4531258']],\n",
      " 'tiger:name_type_1': [1010, ['15105089']],\n",
      " 'tiger:reviewed': [31922, ['4531227']],\n",
      " 'tiger:separated': [18393, ['4648084']],\n",
      " 'tiger:source': [20523, ['4648084']],\n",
      " 'tiger:tlid': [20541, ['4648084']],\n",
      " 'tiger:upload_uuid': [6485, ['4648084']],\n",
      " 'tiger:zip_left': [22941, ['4531258']],\n",
      " 'tiger:zip_right': [20766, ['4531227']],\n",
      " 'turn:lanes': [1533, ['4652285']],\n",
      " 'type': [2413, ['1489680206']],\n",
      " 'waterway': [1415, ['356699164']],\n",
      " 'website': [1401, ['345201951']]}\n",
      "35\n"
     ]
    }
   ],
   "source": [
    "# Import the libraries necessary for the project\n",
    "from collections import defaultdict, Counter\n",
    "import csv\n",
    "import pprint\n",
    "import re\n",
    "import pprint\n",
    "import sqlite3\n",
    "import xml.etree.cElementTree as ET\n",
    "\n",
    "# Open and name data file as global variable\n",
    "OSM_FILE = open('austin_texas.osm', 'r', encoding=\"utf8\")\n",
    "\n",
    "# Element generator for parsing individual nodes in OSM file\n",
    "def get_element(osm_file, tags=('node', 'way', 'relation')):\n",
    "    context = ET.iterparse(osm_file, events=('start', 'end'))\n",
    "    __, root = next(context)\n",
    "    for event, elem in context:\n",
    "        if event == 'end' and elem.tag in tags:\n",
    "            yield elem\n",
    "            root.clear()\n",
    "\n",
    "# Dictionary for counting tag labels\n",
    "k_tags = {}\n",
    "\n",
    "# Dictionary for saving items by labels\n",
    "tag_ids = {}\n",
    "\n",
    "# Population tag count\n",
    "population = 0\n",
    "\n",
    "# Loop for going through tags\n",
    "for element in get_element(OSM_FILE):\n",
    "    for child in element:\n",
    "        # Try-Except for dealing with tags without labels\n",
    "        try:\n",
    "            if child.get('k') == 'population':\n",
    "                population += 1\n",
    "            if child.attrib['k'] in k_tags:\n",
    "                k_tags[child.attrib['k']] += 1\n",
    "                tag_ids[child.atrib['k']].append(element.get('id')) \n",
    "            else:\n",
    "                k_tags[child.attrib['k']] = 1\n",
    "                tag_ids[child.attrib['k']] = [element.get('id')]\n",
    "        except:\n",
    "            continue    \n",
    "\n",
    "# Reduce dictionaries to abundant tags\n",
    "k_tags_ids = {label:[k_tags[label], tag_ids[label]] for label in k_tags.keys() if k_tags[label] >= 1000}\n",
    "\n",
    "    \n",
    "print(\"\\nAbundant tags in {}\".format(OSM_FILE))\n",
    "pprint.pprint(k_tags_ids)\n",
    "print(population)"
   ]
  },
  {
   "cell_type": "markdown",
   "metadata": {},
   "source": [
    "## Preliminary Audit Results\n",
    "\n",
    "Among the most common node labels are address labels, which I'll focus on for wrangling. Along with the 'addr:' label set, the Austin OSM file includes address data from the public domain TIGER data source put out by the US Census Bureau. According to OSM documentationThe TIGER data was first imported into OSM in 2005 and subsequently in 2007 and 2008 when it was used to populate a largely empty US OpenStreetMap with road and place data. The same source states that OSM is unlikely to be updated using direct TIGER data overwrite again. \n",
    "\n",
    "Other data labels that figure prominently in the data file include the 'building' and 'name' labels. I'll further audit the values for these labels to judge whether cleaning is necessary.\n",
    " "
   ]
  },
  {
   "cell_type": "code",
   "execution_count": 8,
   "metadata": {
    "collapsed": false
   },
   "outputs": [],
   "source": [
    "### Write data to be cleaned to separate XML file###\n",
    "\n",
    "#Libraries\n",
    "import xml.etree.cElementTree as ET\n",
    "\n",
    "# Open and name data file as global variable\n",
    "OSM_FILE = open('austin_texas.osm', 'r', encoding=\"utf8\")\n",
    "\n",
    "# Open new XML files for writing prominent data to separate files\n",
    "addr_file = open('austin_addr.osm', 'w', encoding='utf8')\n",
    "tiger_file = open('austin_tiger.osm', 'w', encoding='utf8')\n",
    "building_file = open('austin_building.osm', 'w', encoding='utf8')\n",
    "name_file = open('austin_name.osm', 'w', encoding='utf8')\n",
    "\n",
    "# Initiazlize XML files\n",
    "for f in [addr_file, tiger_file, building_file, name_file]:\n",
    "    f.write('<?xml version=\"1.0\" encoding=\"UTF-8\"?>\\n')\n",
    "    f.write('<osm>\\n  ')\n",
    "\n",
    "# Element generator for parsing individual nodes in OSM file\n",
    "def get_element(osm_file, tags=('node', 'way', 'relation')):\n",
    "    context = ET.iterparse(osm_file, events=('start', 'end'))\n",
    "    __, root = next(context)\n",
    "    for event, elem in context:\n",
    "        if event == 'end' and elem.tag in tags:\n",
    "            yield elem\n",
    "            root.clear()\n",
    "\n",
    "for element in get_element(OSM_FILE):\n",
    "    for child in element:\n",
    "        # Try-Except for dealing with tags without labels\n",
    "        try:\n",
    "            if child.attrib['k'].startswith('addr:'):\n",
    "                addr_file.write(ET.tostring(element, encoding='utf8'))\n",
    "                break\n",
    "            elif child.attrib['k'].startswith('tiger'):\n",
    "                tiger_file.write(ET.tostring(element, encoding='utf8'))\n",
    "                break\n",
    "            elif child.attrib['k'].startswith('name'):\n",
    "                name_file.write(ET.tostring(element, encoding='utf8'))\n",
    "                break\n",
    "            elif child.attrib['k'] == 'building':\n",
    "                building_file.write(ET.tostring(element, encoding='utf8'))\n",
    "                break\n",
    "        except:\n",
    "            continue  \n",
    "\n",
    "for f in [addr_file, tiger_file, name_file, building_file]:\n",
    "    f.write('</osm>')\n",
    "    f.close()\n"
   ]
  },
  {
   "cell_type": "code",
   "execution_count": null,
   "metadata": {
    "collapsed": true
   },
   "outputs": [],
   "source": []
  },
  {
   "cell_type": "code",
   "execution_count": 1,
   "metadata": {
    "collapsed": false
   },
   "outputs": [
    {
     "name": "stdout",
     "output_type": "stream",
     "text": [
      "b'<?xml version=\\'1.0\\' encoding=\\'iso8859-1\\'?>\\n<node changeset=\"8497118\" id=\"26546004\" lat=\"30.4695355\" lon=\"-97.7972587\" timestamp=\"2011-06-20T18:36:15Z\" uid=\"388279\" user=\"Tylan\" version=\"15\" />\\n\\t'\n"
     ]
    },
    {
     "ename": "TypeError",
     "evalue": "write() argument must be str, not bytes",
     "output_type": "error",
     "traceback": [
      "\u001b[0;31m---------------------------------------------------------------------------\u001b[0m",
      "\u001b[0;31mTypeError\u001b[0m                                 Traceback (most recent call last)",
      "\u001b[0;32m<ipython-input-1-24803bcfb403>\u001b[0m in \u001b[0;36m<module>\u001b[0;34m()\u001b[0m\n\u001b[1;32m     31\u001b[0m         \u001b[1;32mif\u001b[0m \u001b[0mi\u001b[0m \u001b[1;33m%\u001b[0m \u001b[0mk\u001b[0m \u001b[1;33m==\u001b[0m \u001b[1;36m0\u001b[0m\u001b[1;33m:\u001b[0m\u001b[1;33m\u001b[0m\u001b[0m\n\u001b[1;32m     32\u001b[0m             \u001b[0mprint\u001b[0m\u001b[1;33m(\u001b[0m\u001b[0mET\u001b[0m\u001b[1;33m.\u001b[0m\u001b[0mtostring\u001b[0m\u001b[1;33m(\u001b[0m\u001b[0melement\u001b[0m\u001b[1;33m,\u001b[0m \u001b[0mencoding\u001b[0m\u001b[1;33m=\u001b[0m\u001b[1;34m'iso8859-1'\u001b[0m\u001b[1;33m)\u001b[0m\u001b[1;33m)\u001b[0m\u001b[1;33m\u001b[0m\u001b[0m\n\u001b[0;32m---> 33\u001b[0;31m             \u001b[0moutput\u001b[0m\u001b[1;33m.\u001b[0m\u001b[0mwrite\u001b[0m\u001b[1;33m(\u001b[0m\u001b[0mET\u001b[0m\u001b[1;33m.\u001b[0m\u001b[0mtostring\u001b[0m\u001b[1;33m(\u001b[0m\u001b[0melement\u001b[0m\u001b[1;33m,\u001b[0m \u001b[0mencoding\u001b[0m\u001b[1;33m=\u001b[0m\u001b[1;34m'iso8859-1'\u001b[0m\u001b[1;33m)\u001b[0m\u001b[1;33m)\u001b[0m\u001b[1;33m\u001b[0m\u001b[0m\n\u001b[0m\u001b[1;32m     34\u001b[0m \u001b[1;33m\u001b[0m\u001b[0m\n\u001b[1;32m     35\u001b[0m     \u001b[0moutput\u001b[0m\u001b[1;33m.\u001b[0m\u001b[0mwrite\u001b[0m\u001b[1;33m(\u001b[0m\u001b[1;34m'</osm>'\u001b[0m\u001b[1;33m)\u001b[0m\u001b[1;33m\u001b[0m\u001b[0m\n",
      "\u001b[0;31mTypeError\u001b[0m: write() argument must be str, not bytes"
     ]
    }
   ],
   "source": [
    "#!/usr/bin/env python\n",
    "# -*- coding: utf-8 -*-\n",
    "\n",
    "import xml.etree.ElementTree as ET  # Use cElementTree or lxml if too slow\n",
    "\n",
    "OSM_FILE = \"austin_texas.osm\"  # Replace this with your osm file\n",
    "SAMPLE_FILE = \"austin_sample.osm\"\n",
    "\n",
    "k = 10 # Parameter: take every k-th top level element\n",
    "\n",
    "def get_element(osm_file, tags=('node', 'way', 'relation')):\n",
    "    \"\"\"Yield element if it is the right type of tag\n",
    "\n",
    "    Reference:\n",
    "    http://stackoverflow.com/questions/3095434/inserting-newlines-in-xml-file-generated-via-xml-etree-elementtree-in-python\n",
    "    \"\"\"\n",
    "    context = iter(ET.iterparse(osm_file, events=('start', 'end')))\n",
    "    _, root = next(context)\n",
    "    for event, elem in context:\n",
    "        if event == 'end' and elem.tag in tags:\n",
    "            yield elem\n",
    "            root.clear()\n",
    "\n",
    "\n",
    "with open(SAMPLE_FILE, 'w') as output:\n",
    "    output.write('<?xml version=\"1.0\" encoding=\"UTF-8\"?>\\n')\n",
    "    output.write('<osm>\\n  ')\n",
    "\n",
    "    # Write every kth top level element\n",
    "    for i, element in enumerate(get_element(OSM_FILE)):\n",
    "        if i % k == 0:\n",
    "            print(ET.tostring(element, encoding='iso8859-1'))\n",
    "            output.write(ET.tostring(element, encoding='iso8859-1'))\n",
    "\n",
    "    output.write('</osm>')"
   ]
  },
  {
   "cell_type": "code",
   "execution_count": 18,
   "metadata": {
    "collapsed": false
   },
   "outputs": [
    {
     "name": "stdout",
     "output_type": "stream",
     "text": [
      "True\n"
     ]
    }
   ],
   "source": [
    "import re\n",
    "\n",
    "s = \"999r99\"\n",
    "\n"
   ]
  },
  {
   "cell_type": "code",
   "execution_count": 26,
   "metadata": {
    "collapsed": false
   },
   "outputs": [
    {
     "name": "stdout",
     "output_type": "stream",
     "text": [
      "[('151324760', 'Bastrop', 'village', '7591'), ('151327976', 'Manor', 'village', '2657'), ('151345234', 'Pflugerville', 'town', '46936'), ('151349678', 'Hays', 'village', '241'), ('151353230', 'Jonestown', 'village', '2121'), ('151355719', 'Mountain City', 'village', '698'), ('151359532', 'Taylor', 'town', '15322'), ('151406356', 'Sunset Valley', 'village', '790'), ('151445864', 'Bear Creek', 'village', '376'), ('151449613', 'Wimberley', 'village', '2703'), ('151515514', 'Lago Vista', 'village', '5794'), ('151582208', 'Thrall', 'village', '852'), ('151591378', 'Briarcliff', 'village', '852'), ('151617534', 'Georgetown', 'town', '42467'), ('151623111', 'Lakeway', 'town', '11391'), ('151639682', 'Kyle', 'town', '28016'), ('151726187', 'Woodcreek', 'village', '1472'), ('151727206', 'San Leanna', 'village', '486'), ('151758834', 'Volente', 'village', '385'), ('151768617', 'Creedmoor', 'village', '190'), ('151769657', 'Buda', 'village', '4551'), ('151844641', 'Webberville', 'village', '308'), ('151878233', 'Bee Cave', 'village', '3925'), ('151918158', 'Hutto', 'town', '9572'), ('151929411', 'Liberty Hill', 'village', '1510'), ('151941172', 'Rollingwood', 'village', '1368'), ('151951931', 'Dripping Springs', 'village', '1677'), ('1801308037', 'Austin', 'city', '790390'), ('1979396823', 'Round Rock', 'city', '99887')]\n"
     ]
    }
   ],
   "source": [
    "### Write data to be cleaned to separate XML file###\n",
    "\n",
    "#Libraries\n",
    "import xml.etree.cElementTree as ET\n",
    "\n",
    "# Open and name data file as global variable\n",
    "OSM_FILE = open('austin_texas.osm', 'r', encoding=\"utf8\")\n",
    "\n",
    "\n",
    "# Element generator for parsing individual nodes in OSM file\n",
    "def get_element(osm_file, tags=('node', 'way')):\n",
    "    context = ET.iterparse(osm_file, events=('start', 'end'))\n",
    "    __, root = next(context)\n",
    "    for event, elem in context:\n",
    "        if event == 'end' and elem.tag in tags:\n",
    "            yield elem\n",
    "            root.clear()\n",
    "\n",
    "names = []\n",
    "            \n",
    "for element in get_element(OSM_FILE):\n",
    "    elem_id = element.attrib['id']\n",
    "    name = None\n",
    "    place = None\n",
    "    popul = None\n",
    "    for tag in element.iter('tag'):\n",
    "        if tag.attrib['k'] == 'name':\n",
    "            name = tag.get('v')\n",
    "        if tag.attrib['k'] == 'place':\n",
    "            place = tag.get('v')\n",
    "        if tag.attrib['k'] == 'population':\n",
    "            popul = tag.get('v') \n",
    "    if (name and place in ['hamlet', 'village', 'town', 'city'] and popul):\n",
    "        names.append((elem_id, name, place, popul))\n",
    "\n",
    "\n",
    "print(names)"
   ]
  },
  {
   "cell_type": "code",
   "execution_count": 28,
   "metadata": {
    "collapsed": false
   },
   "outputs": [
    {
     "name": "stdout",
     "output_type": "stream",
     "text": [
      "[('151324760', 'Bastrop', 'village', '7591'),\n",
      " ('151327976', 'Manor', 'village', '2657'),\n",
      " ('151345234', 'Pflugerville', 'town', '46936'),\n",
      " ('151349678', 'Hays', 'village', '241'),\n",
      " ('151353230', 'Jonestown', 'village', '2121'),\n",
      " ('151355719', 'Mountain City', 'village', '698'),\n",
      " ('151359532', 'Taylor', 'town', '15322'),\n",
      " ('151406356', 'Sunset Valley', 'village', '790'),\n",
      " ('151445864', 'Bear Creek', 'village', '376'),\n",
      " ('151449613', 'Wimberley', 'village', '2703'),\n",
      " ('151515514', 'Lago Vista', 'village', '5794'),\n",
      " ('151582208', 'Thrall', 'village', '852'),\n",
      " ('151591378', 'Briarcliff', 'village', '852'),\n",
      " ('151617534', 'Georgetown', 'town', '42467'),\n",
      " ('151623111', 'Lakeway', 'town', '11391'),\n",
      " ('151639682', 'Kyle', 'town', '28016'),\n",
      " ('151726187', 'Woodcreek', 'village', '1472'),\n",
      " ('151727206', 'San Leanna', 'village', '486'),\n",
      " ('151758834', 'Volente', 'village', '385'),\n",
      " ('151768617', 'Creedmoor', 'village', '190'),\n",
      " ('151769657', 'Buda', 'village', '4551'),\n",
      " ('151844641', 'Webberville', 'village', '308'),\n",
      " ('151878233', 'Bee Cave', 'village', '3925'),\n",
      " ('151918158', 'Hutto', 'town', '9572'),\n",
      " ('151929411', 'Liberty Hill', 'village', '1510'),\n",
      " ('151941172', 'Rollingwood', 'village', '1368'),\n",
      " ('151951931', 'Dripping Springs', 'village', '1677'),\n",
      " ('1801308037', 'Austin', 'city', '790390'),\n",
      " ('1979396823', 'Round Rock', 'city', '99887')]\n"
     ]
    }
   ],
   "source": [
    "import pprint\n",
    "pprint.pprint(names)"
   ]
  },
  {
   "cell_type": "code",
   "execution_count": 38,
   "metadata": {
    "collapsed": false
   },
   "outputs": [],
   "source": [
    "import csv, sqlite3\n",
    "\n",
    "p3_db = sqlite3.connect('p3_osm')\n",
    "curs = p3_db.cursor()\n",
    "with open('2015_txpopest_place.csv', 'r') as f:\n",
    "    dr = csv.DictReader(f)\n",
    "    to_db = [(i['Place'], i['jan1_2016_pop_est']) for i in dr]\n",
    "    \n",
    "curs.executemany(\"INSERT INTO populations (place, pop_2016) VALUES (?, ?);\", to_db)\n",
    "p3_db.commit()\n",
    "p3_db.close()"
   ]
  },
  {
   "cell_type": "code",
   "execution_count": null,
   "metadata": {
    "collapsed": true
   },
   "outputs": [],
   "source": []
  }
 ],
 "metadata": {
  "anaconda-cloud": {},
  "kernelspec": {
   "display_name": "Python [default]",
   "language": "python",
   "name": "python3"
  },
  "language_info": {
   "codemirror_mode": {
    "name": "ipython",
    "version": 3
   },
   "file_extension": ".py",
   "mimetype": "text/x-python",
   "name": "python",
   "nbconvert_exporter": "python",
   "pygments_lexer": "ipython3",
   "version": "3.5.2"
  }
 },
 "nbformat": 4,
 "nbformat_minor": 2
}
