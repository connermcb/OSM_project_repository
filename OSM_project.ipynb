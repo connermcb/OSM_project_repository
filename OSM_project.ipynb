{
 "cells": [
  {
   "cell_type": "code",
   "execution_count": 54,
   "metadata": {
    "collapsed": false
   },
   "outputs": [
    {
     "data": {
      "text/html": [
       "<script>\n",
       "  function code_toggle() {\n",
       "    if (code_shown){\n",
       "      $('div.input').hide('500');\n",
       "      $('#toggleButton').val('Show Code')\n",
       "    } else {\n",
       "      $('div.input').show('500');\n",
       "      $('#toggleButton').val('Hide Code')\n",
       "    }\n",
       "    code_shown = !code_shown\n",
       "  }\n",
       "\n",
       "  $( document ).ready(function(){\n",
       "    code_shown=false;\n",
       "    $('div.input').hide()\n",
       "  });\n",
       "</script>\n",
       "<form action=\"javascript:code_toggle()\"><input type=\"submit\" id=\"toggleButton\" value=\"Show Code\"></form>)"
      ],
      "text/plain": [
       "<IPython.core.display.HTML object>"
      ]
     },
     "execution_count": 54,
     "metadata": {},
     "output_type": "execute_result"
    }
   ],
   "source": [
    "from IPython.display import HTML\n",
    "\n",
    "HTML('''<script>\n",
    "  function code_toggle() {\n",
    "    if (code_shown){\n",
    "      $('div.input').hide('500');\n",
    "      $('#toggleButton').val('Show Code')\n",
    "    } else {\n",
    "      $('div.input').show('500');\n",
    "      $('#toggleButton').val('Hide Code')\n",
    "    }\n",
    "    code_shown = !code_shown\n",
    "  }\n",
    "\n",
    "  $( document ).ready(function(){\n",
    "    code_shown=false;\n",
    "    $('div.input').hide()\n",
    "  });\n",
    "</script>\n",
    "<form action=\"javascript:code_toggle()\"><input type=\"submit\" id=\"toggleButton\" value=\"Show Code\"></form>)''')"
   ]
  },
  {
   "cell_type": "code",
   "execution_count": 48,
   "metadata": {
    "collapsed": false
   },
   "outputs": [
    {
     "data": {
      "application/javascript": [
       "IPython.notebook.set_autosave_interval(0)"
      ]
     },
     "metadata": {},
     "output_type": "display_data"
    },
    {
     "name": "stdout",
     "output_type": "stream",
     "text": [
      "Autosave disabled\n"
     ]
    }
   ],
   "source": [
    "%autosave 0"
   ]
  },
  {
   "cell_type": "markdown",
   "metadata": {},
   "source": [
    "# OpenStreetMap Data Wrangling Project\n"
   ]
  },
  {
   "cell_type": "markdown",
   "metadata": {},
   "source": [
    "The city I chose to work with initially was Austin, Texas. \n",
    "\n",
    "* http://www.openstreetmap.org/relation/113314\n",
    "* https://mapzen.com/data/metro-extracts/metro/austin_texas/\n",
    "\n",
    "I chose this city because it's the place I presently call home. Tackling the Austin data set gives me a chance to get more acquainted with the place I live. \n",
    "\n",
    "The auditing, wrangling, and cleaning I'll set up programmatically can be applied to any area of Texas. Later in the report I'll demonstrate how the wrangling can applicable beyond the test data set."
   ]
  },
  {
   "cell_type": "markdown",
   "metadata": {},
   "source": [
    "## Problems Encountered in Data Set\n",
    "\n",
    "As a preliminary step to working with irregularities in the data set, I'll take a look at the distribution of tags to see which are abundant enough to serve as good data wrangling practice."
   ]
  },
  {
   "cell_type": "code",
   "execution_count": 49,
   "metadata": {
    "collapsed": false
   },
   "outputs": [
    {
     "name": "stdout",
     "output_type": "stream",
     "text": [
      "\n",
      "Abundant tags in <_io.TextIOWrapper name='austin_texas.osm' mode='r' encoding='utf8'>\n",
      "{'addr:housenumber': [333664, ['280231689']],\n",
      " 'addr:postcode': [86642, ['281362888']],\n",
      " 'addr:street': [333622, ['280231689']],\n",
      " 'building': [584296, ['365275738']],\n",
      " 'coa:place_id': [13715, ['3823901373']],\n",
      " 'height': [443886, ['3842174484']],\n",
      " 'highway': [83748, ['26546008']],\n",
      " 'name': [49681, ['151321672']],\n",
      " 'oneway': [13784, ['4358672']],\n",
      " 'surface': [10049, ['152476203']],\n",
      " 'tiger:cfcc': [37239, ['4531227']],\n",
      " 'tiger:county': [37288, ['4531227']],\n",
      " 'tiger:name_base': [31080, ['4531258']],\n",
      " 'tiger:name_type': [28560, ['4531258']],\n",
      " 'tiger:reviewed': [31922, ['4531227']],\n",
      " 'tiger:separated': [18393, ['4648084']],\n",
      " 'tiger:source': [20523, ['4648084']],\n",
      " 'tiger:tlid': [20541, ['4648084']],\n",
      " 'tiger:zip_left': [22941, ['4531258']],\n",
      " 'tiger:zip_right': [20766, ['4531227']]}\n"
     ]
    }
   ],
   "source": [
    "# Import the libraries necessary for the project\n",
    "from collections import defaultdict, Counter\n",
    "import csv\n",
    "import numpy as np\n",
    "import re\n",
    "import pprint\n",
    "import sqlite3\n",
    "import xml.etree.cElementTree as ET\n",
    "\n",
    "# Open and name data file as global variable\n",
    "OSM_FILE = open('austin_texas.osm', 'r', encoding=\"utf8\")\n",
    "\n",
    "# Element generator for parsing individual nodes in OSM file\n",
    "def get_element(osm_file, tags=('node', 'way', 'relation')):\n",
    "    context = ET.iterparse(osm_file, events=('start', 'end'))\n",
    "    __, root = next(context)\n",
    "    for event, elem in context:\n",
    "        if event == 'end' and elem.tag in tags:\n",
    "            yield elem\n",
    "            root.clear()\n",
    "\n",
    "# Dictionary for counting tag labels\n",
    "k_tags = {}\n",
    "\n",
    "# Population tag count\n",
    "population = 0\n",
    "\n",
    "# Loop for going through tags\n",
    "for element in get_element(OSM_FILE):\n",
    "    for child in element:\n",
    "        # Try-Except for dealing with tags without labels\n",
    "        try:\n",
    "            if child.attrib['k'] in k_tags:\n",
    "                k_tags[child.attrib['k']] += 1\n",
    "            else:\n",
    "                k_tags[child.attrib['k']] = 1\n",
    "        except:\n",
    "            continue    \n",
    "\n",
    "# Reduce dictionaries to abundant tags\n",
    "k_tags_ids = {label:[k_tags[label], tag_ids[label]] for label in k_tags.keys() if k_tags[label] >= 10000}\n",
    "\n",
    "    \n",
    "print(\"\\nAbundant tags in {}\".format(OSM_FILE))\n",
    "pprint.pprint(k_tags_ids)\n"
   ]
  },
  {
   "cell_type": "markdown",
   "metadata": {},
   "source": [
    "## Preliminary Audit Results\n",
    "\n",
    "Among the most abundant node labels are address labels, which were the focus for wrangling demonstrated in P3 lessons. \n",
    "\n",
    "Instead of focusing on correcting address data, I'll look at data that is correctly formatted but no longer current, specifically population for the primary and satellite urban centers in the focus area. Nodes marking urban centers along with the city or town name include population and place keys for populated settlements whose values are determined by population level.\n",
    "\n",
    "\n",
    "\n",
    "Tag|Population|Description\n",
    "---|----------|-----------\n",
    "place=city|100,000+|\n",
    "place=town|10,000 - 100,000|an urban settlement with local importance\n",
    "place=village|<10,000|incorporated municipality, regardless of its population\t\n",
    "place=hamlet|<100|unincorporated settlement with less than 100 inhabitants\n",
    "place=isolated_dwelling|<= 2 households|the smallest kind of human settlement\n",
    "\n"
   ]
  },
  {
   "cell_type": "code",
   "execution_count": 46,
   "metadata": {
    "collapsed": false
   },
   "outputs": [
    {
     "name": "stdout",
     "output_type": "stream",
     "text": [
      "[('151324760', 'Bastrop', 'village', '7591', None, '2016'),\n",
      " ('151327976', 'Manor', 'village', '2657', None, '2016'),\n",
      " ('151345234', 'Pflugerville', 'town', '46936', 'US Census 2010', '2016'),\n",
      " ('151349678', 'Hays', 'village', '241', None, '2016'),\n",
      " ('151353230', 'Jonestown', 'village', '2121', None, '2016'),\n",
      " ('151355719', 'Mountain City', 'village', '698', None, '2016'),\n",
      " ('151359532', 'Taylor', 'town', '15322', None, '2016'),\n",
      " ('151406356', 'Sunset Valley', 'village', '790', None, '2016'),\n",
      " ('151445864', 'Bear Creek', 'village', '376', None, '2016'),\n",
      " ('151449613', 'Wimberley', 'village', '2703', None, '2016'),\n",
      " ('151515514', 'Lago Vista', 'village', '5794', None, '2016'),\n",
      " ('151582208', 'Thrall', 'village', '852', None, '2016'),\n",
      " ('151591378', 'Briarcliff', 'village', '852', None, '2016'),\n",
      " ('151617534', 'Georgetown', 'town', '42467', None, '2016'),\n",
      " ('151623111', 'Lakeway', 'town', '11391', 'US Census 2010', '2016'),\n",
      " ('151639682', 'Kyle', 'town', '28016', 'US Census 2010', '2016'),\n",
      " ('151726187', 'Woodcreek', 'village', '1472', None, '2016'),\n",
      " ('151727206', 'San Leanna', 'village', '486', None, '2016'),\n",
      " ('151758834', 'Volente', 'village', '385', None, '2016'),\n",
      " ('151768617', 'Creedmoor', 'village', '190', None, '2016'),\n",
      " ('151769657', 'Buda', 'village', '4551', None, '2016'),\n",
      " ('151844641', 'Webberville', 'village', '308', None, '2016'),\n",
      " ('151878233', 'Bee Cave', 'village', '3925', 'US Census 2010', '2016'),\n",
      " ('151918158', 'Hutto', 'town', '9572', None, '2016'),\n",
      " ('151929411', 'Liberty Hill', 'village', '1510', None, '2016'),\n",
      " ('151941172', 'Rollingwood', 'village', '1368', None, '2016'),\n",
      " ('151951931', 'Dripping Springs', 'village', '1677', None, '2016'),\n",
      " ('1801308037', 'Austin', 'city', '790390', None, '2017'),\n",
      " ('1979396823', 'Round Rock', 'city', '99887', None, '2016'),\n",
      " ('2149161743', 'Steiner Ranch', 'locality', '15000', None, '2013')]\n"
     ]
    }
   ],
   "source": [
    "### Get population data from OSM file ###\n",
    "\n",
    "#Libraries\n",
    "import pprint\n",
    "import xml.etree.cElementTree as ET\n",
    "\n",
    "# Open and name data file as global variable\n",
    "FILE_NAME = 'austin_texas.osm'\n",
    "OSM_FILE = open(FILE_NAME, 'r', encoding=\"utf8\")\n",
    "\n",
    "\n",
    "# Element generator for parsing individual nodes in OSM file\n",
    "def get_element(osm_file, tags=('node', 'way')):\n",
    "    context = ET.iterparse(osm_file, events=('start', 'end'))\n",
    "    __, root = next(context)\n",
    "    for event, elem in context:\n",
    "        if event == 'end' and elem.tag in tags:\n",
    "            yield elem\n",
    "            root.clear()\n",
    "\n",
    "names = []\n",
    "            \n",
    "for element in get_element(OSM_FILE):\n",
    "    elem_id = element.attrib['id']\n",
    "    time_stamp_year = element.attrib['timestamp'][:4]\n",
    "    name = None\n",
    "    place = None\n",
    "    popul = None\n",
    "    source = None\n",
    "    for tag in element.iter('tag'):\n",
    "        if tag.attrib['k'] == 'name':\n",
    "            name = tag.get('v')\n",
    "        if tag.attrib['k'] == 'place':\n",
    "            place = tag.get('v')\n",
    "        if tag.attrib['k'] == 'population':\n",
    "            popul = tag.get('v') \n",
    "        if tag.attrib['k'].startswith('source:population'):\n",
    "            source = tag.get('v')\n",
    "    if (name and popul):\n",
    "        names.append((elem_id, name, place, popul, source, time_stamp_year))\n",
    "\n",
    "\n",
    "pprint.pprint(names)"
   ]
  },
  {
   "cell_type": "code",
   "execution_count": null,
   "metadata": {
    "collapsed": true
   },
   "outputs": [],
   "source": []
  },
  {
   "cell_type": "code",
   "execution_count": 29,
   "metadata": {
    "collapsed": false
   },
   "outputs": [],
   "source": [
    "import csv, sqlite3\n",
    "\n",
    "p3_db = sqlite3.connect(r'C:\\Users\\User\\sqlite_windows\\p3_osm')\n",
    "curs = p3_db.cursor()\n",
    "with open('2015_txpopest_place.csv', 'r') as f:\n",
    "    dr = csv.DictReader(f)\n",
    "    to_db = [(i['Place'], i['jan1_2016_pop_est']) for i in dr]\n",
    "\n",
    "curs.executemany(\"INSERT INTO TX_popul_est (place, popul_2016) VALUES (?, ?);\", to_db)\n",
    "curs.execute(\"CREATE TABLE IF NOT EXISTS OSM_Pop_Data_Nodes(node_id integer PRIMARY KEY, place text, designation text, popul integer, FOREIGN KEY(place) REFERENCES TX_popul_est(place));\")\n",
    "curs.executemany(\"INSERT INTO OSM_Pop_Data_Nodes (node_id, place, designation, popul) VALUES(?, ?, ?, ?);\", names)\n",
    "p3_db.commit()\n",
    "p3_db.close()"
   ]
  },
  {
   "cell_type": "code",
   "execution_count": 44,
   "metadata": {
    "collapsed": false
   },
   "outputs": [
    {
     "name": "stdout",
     "output_type": "stream",
     "text": [
      "[('Austin', 790390, 921781),\n",
      " ('Bastrop', 7591, 8278),\n",
      " ('Bear Creek', 376, 417),\n",
      " ('Bee Cave', 3925, 6117),\n",
      " ('Briarcliff', 852, 1536),\n",
      " ('Buda', 4551, 14644),\n",
      " ('Creedmoor', 190, 218),\n",
      " ('Dripping Springs', 1677, 2636),\n",
      " ('Georgetown', 42467, 64476),\n",
      " ('Hays', 241, 243),\n",
      " ('Hutto', 9572, 22471),\n",
      " ('Jonestown', 2121, 2018),\n",
      " ('Kyle', 28016, 38325),\n",
      " ('Lakeway', 11391, 13945),\n",
      " ('Liberty Hill', 1510, 1638),\n",
      " ('Manor', 2657, 7896),\n",
      " ('Mountain City', 698, 719),\n",
      " ('Pflugerville', 46936, 56313),\n",
      " ('Rollingwood', 1368, 1539),\n",
      " ('Round Rock', 99887, 120068),\n",
      " ('San Leanna', 486, 542),\n",
      " ('Sunset Valley', 790, 730),\n",
      " ('Taylor', 15322, 17217),\n",
      " ('Thrall', 852, 931),\n",
      " ('Volente', 385, 598),\n",
      " ('Webberville', 308, 428),\n",
      " ('Wimberley', 2703, 2745),\n",
      " ('Woodcreek', 1472, 1688),\n",
      " ('Austin', 790390, 921781),\n",
      " ('Bastrop', 7591, 8278),\n",
      " ('Bear Creek', 376, 417),\n",
      " ('Bee Cave', 3925, 6117),\n",
      " ('Briarcliff', 852, 1536),\n",
      " ('Buda', 4551, 14644),\n",
      " ('Creedmoor', 190, 218),\n",
      " ('Dripping Springs', 1677, 2636),\n",
      " ('Georgetown', 42467, 64476),\n",
      " ('Hays', 241, 243),\n",
      " ('Hutto', 9572, 22471),\n",
      " ('Jonestown', 2121, 2018),\n",
      " ('Kyle', 28016, 38325),\n",
      " ('Lakeway', 11391, 13945),\n",
      " ('Liberty Hill', 1510, 1638),\n",
      " ('Manor', 2657, 7896),\n",
      " ('Mountain City', 698, 719),\n",
      " ('Pflugerville', 46936, 56313),\n",
      " ('Rollingwood', 1368, 1539),\n",
      " ('Round Rock', 99887, 120068),\n",
      " ('San Leanna', 486, 542),\n",
      " ('Sunset Valley', 790, 730),\n",
      " ('Taylor', 15322, 17217),\n",
      " ('Thrall', 852, 931),\n",
      " ('Volente', 385, 598),\n",
      " ('Webberville', 308, 428),\n",
      " ('Wimberley', 2703, 2745),\n",
      " ('Woodcreek', 1472, 1688),\n",
      " ('Austin', 790390, 921781),\n",
      " ('Bastrop', 7591, 8278),\n",
      " ('Bear Creek', 376, 417),\n",
      " ('Bee Cave', 3925, 6117),\n",
      " ('Briarcliff', 852, 1536),\n",
      " ('Buda', 4551, 14644),\n",
      " ('Creedmoor', 190, 218),\n",
      " ('Dripping Springs', 1677, 2636),\n",
      " ('Georgetown', 42467, 64476),\n",
      " ('Hays', 241, 243),\n",
      " ('Hutto', 9572, 22471),\n",
      " ('Jonestown', 2121, 2018),\n",
      " ('Kyle', 28016, 38325),\n",
      " ('Lakeway', 11391, 13945),\n",
      " ('Liberty Hill', 1510, 1638),\n",
      " ('Manor', 2657, 7896),\n",
      " ('Mountain City', 698, 719),\n",
      " ('Pflugerville', 46936, 56313),\n",
      " ('Rollingwood', 1368, 1539),\n",
      " ('Round Rock', 99887, 120068),\n",
      " ('San Leanna', 486, 542),\n",
      " ('Sunset Valley', 790, 730),\n",
      " ('Taylor', 15322, 17217),\n",
      " ('Thrall', 852, 931),\n",
      " ('Volente', 385, 598),\n",
      " ('Webberville', 308, 428),\n",
      " ('Wimberley', 2703, 2745),\n",
      " ('Woodcreek', 1472, 1688),\n",
      " ('Austin', 790390, 921781),\n",
      " ('Bastrop', 7591, 8278),\n",
      " ('Bear Creek', 376, 417),\n",
      " ('Bee Cave', 3925, 6117),\n",
      " ('Briarcliff', 852, 1536),\n",
      " ('Buda', 4551, 14644),\n",
      " ('Creedmoor', 190, 218),\n",
      " ('Dripping Springs', 1677, 2636),\n",
      " ('Georgetown', 42467, 64476),\n",
      " ('Hays', 241, 243),\n",
      " ('Hutto', 9572, 22471),\n",
      " ('Jonestown', 2121, 2018),\n",
      " ('Kyle', 28016, 38325),\n",
      " ('Lakeway', 11391, 13945),\n",
      " ('Liberty Hill', 1510, 1638),\n",
      " ('Manor', 2657, 7896),\n",
      " ('Mountain City', 698, 719),\n",
      " ('Pflugerville', 46936, 56313),\n",
      " ('Rollingwood', 1368, 1539),\n",
      " ('Round Rock', 99887, 120068),\n",
      " ('San Leanna', 486, 542),\n",
      " ('Sunset Valley', 790, 730),\n",
      " ('Taylor', 15322, 17217),\n",
      " ('Thrall', 852, 931),\n",
      " ('Volente', 385, 598),\n",
      " ('Webberville', 308, 428),\n",
      " ('Wimberley', 2703, 2745),\n",
      " ('Woodcreek', 1472, 1688)]\n"
     ]
    }
   ],
   "source": [
    "p3_db = sqlite3.connect(r'C:\\Users\\User\\sqlite_windows\\p3_osm')\n",
    "curs = p3_db.cursor()\n",
    "curs.execute(\"SELECT OSM_Pop_Data_Nodes.place, popul, popul_2016 FROM TX_popul_est JOIN OSM_Pop_Data_Nodes ON OSM_Pop_Data_Nodes.place = TX_popul_est.place;\")\n",
    "aggr = curs.fetchall()\n",
    "pprint.pprint(aggr)\n"
   ]
  },
  {
   "cell_type": "code",
   "execution_count": null,
   "metadata": {
    "collapsed": true
   },
   "outputs": [],
   "source": []
  }
 ],
 "metadata": {
  "anaconda-cloud": {},
  "kernelspec": {
   "display_name": "Python [default]",
   "language": "python",
   "name": "python3"
  },
  "language_info": {
   "codemirror_mode": {
    "name": "ipython",
    "version": 3
   },
   "file_extension": ".py",
   "mimetype": "text/x-python",
   "name": "python",
   "nbconvert_exporter": "python",
   "pygments_lexer": "ipython3",
   "version": "3.5.2"
  }
 },
 "nbformat": 4,
 "nbformat_minor": 2
}
