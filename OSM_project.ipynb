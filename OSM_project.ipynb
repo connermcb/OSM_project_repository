{
 "cells": [
  {
   "cell_type": "markdown",
   "metadata": {},
   "source": [
    "# OpenStreetMap Data Wrangling Project\n"
   ]
  },
  {
   "cell_type": "markdown",
   "metadata": {},
   "source": [
    "The city I chose to work with initially was Austin, Texas. \n",
    "\n",
    "* http://www.openstreetmap.org/relation/113314\n",
    "* https://mapzen.com/data/metro-extracts/metro/austin_texas/\n",
    "\n",
    "I chose this city because it's the place I presently call home. Tackling the Austin data set gives me a chance to get more acquainted with the place I live. \n",
    "\n",
    "The auditing, wrangling, and cleaning I'll set up programmatically can be applied to any area of Texas. Later in the report I'll demonstrate how the wrangling can applicable beyond the test data set."
   ]
  },
  {
   "cell_type": "markdown",
   "metadata": {},
   "source": [
    "## Problems Encountered in Data Set\n",
    "\n",
    "As a preliminary step to working with irregularities in the data set, I'll take a look at the distribution of tags to see which are abundant enough to serve as good data wrangling practice."
   ]
  },
  {
   "cell_type": "code",
   "execution_count": 5,
   "metadata": {
    "collapsed": false
   },
   "outputs": [
    {
     "name": "stdout",
     "output_type": "stream",
     "text": [
      "Processing OSM file...\n",
      "Data processed in 162.0023 secs. \n",
      "33 population tags found and cleaned.\n",
      "\n",
      "\n",
      "Number of revised populations = 33\n",
      "\n",
      "          Settlement  Increase  Proportion\n",
      "0      Sunset Valley       -60      -0.076\n",
      "1          Jonestown      -103      -0.049\n",
      "2               Hays         2       0.008\n",
      "3          Wimberley        42       0.016\n",
      "4      Mountain City        21       0.030\n",
      "5       Liberty Hill       128       0.085\n",
      "6            Bastrop       687       0.091\n",
      "7             Thrall        79       0.093\n",
      "8         Bear Creek        41       0.109\n",
      "9         San Leanna        56       0.115\n",
      "10            Taylor      1895       0.124\n",
      "11       Rollingwood       171       0.125\n",
      "12         Woodcreek       216       0.147\n",
      "13         Creedmoor        28       0.147\n",
      "14            Austin    131391       0.166\n",
      "15            Austin    131391       0.166\n",
      "16      Pflugerville      9377       0.200\n",
      "17        Round Rock     20181       0.202\n",
      "18           Lakeway      2554       0.224\n",
      "19           Lakeway      2554       0.224\n",
      "20        San Marcos     13165       0.293\n",
      "21              Kyle     10309       0.368\n",
      "22              Kyle     10309       0.368\n",
      "23       Webberville       120       0.390\n",
      "24        Georgetown     22009       0.518\n",
      "25           Volente       213       0.553\n",
      "26          Bee Cave      2192       0.558\n",
      "27          Bee Cave      2192       0.558\n",
      "28  Dripping Springs       959       0.572\n",
      "29        Briarcliff       684       0.803\n",
      "30             Hutto     12899       1.348\n",
      "31             Manor      5239       1.972\n",
      "32              Buda     10093       2.218\n",
      "\n",
      "Mean population increase = 11849.52  \n",
      "Mean proportional increase = 0.38382424242424246\n",
      "\n",
      "Number of place designations changed = 1\n",
      "\n",
      "  Settlement New Designation\n",
      "0       Buda            town\n",
      "\n"
     ]
    }
   ],
   "source": [
    "import osm_popul_wrangler"
   ]
  },
  {
   "cell_type": "code",
   "execution_count": 4,
   "metadata": {
    "collapsed": false
   },
   "outputs": [
    {
     "name": "stdout",
     "output_type": "stream",
     "text": [
      "{'TX 78735', '78645', '78729', '78669', '78691', '78654', '78616', '78756', '78626', '78742', '76574-4649', '14150', '78676', '78758-7008', '78617', '78613', '78754', '78758-7013', '78725', '78731', '78621', '78748', '78757', '78724', 'TX 78758', '78634', '78615', '78724-1199', '78749', '78735', '78680', '78723', '78758', '78681', '78746', '78727', '78644', '78705-5609', 'TX 78724', '78759', '78610', '78719', '78728', '78732', '78612', '78957', '78730', 'TX 78613', '78652', '78745', '78664', '78663', '78738', '78712', '78737', '78726', '78641', '78628', '78750', '78751', '78705', '78640-6137', '78704', '78660', '78739', '78704-5639', '78701', '78703', '78734', '78728-1275', '78722', '78704-7205', '78721', '78717', '78753-4150', '78656', '78653', 'TX 78745', '78744', '78753', '78702', '78602', '78640', 'TX 78728', '78733', '78747', '78736', '78620', '78741', '78752', '78646', '78665', '76574'}\n",
      "{'B', 'Road', '', 'Caliche', 'Tealwood', '#200N', 'Rd', '#4', 'Canyon', 'Catorce', 'cove', 'Mist', '1826', 'Haven', 'Vista', 'Ford', 'Reinhardt', 'Valley', 'Woods', '#140', 'Vanguard', 'Cannon', 'Cobblestone', 'Skyview', 'Glen', 'Cc', 'Point', 'Yard', 'Lido', 'Wheel', '104', 'Sioux', 'Mallow', 'Dance', 'Dr.', 'Way', 'Fandango', 'Trl', 'Sq', 'Thunderbird', 'Park', '2222', '#3000a', 'Viento', 'Royale', 'Track', 'Saddles', 'Horse', 'Ct', 'Boulevard', 'Catcher', 'C1-100', 'West', 'D5000', 'Comanche', 'Raphael', 'Bonita', 'Leon', 'Pass', 'Speedway', 'Forest', 'North', 'Pkwy', '620', 'Pointe', 'Lancaster', '#203', 'Mas', 'Turnback', 'Linda', 'Landing', 'Tropez', 'Frijolita', 'Gap', 'Blvd.', 'Loop', 'Comet', 'Pathway', 'suite#L131', 'Bend', 'SB', '1431', 'RM1431', 'Corta', 'Race', 'Avenue', 'Trail', 'Juniper', 'Sutton', '#150', '6', '1825', '12', 'Drive/Rd', 'Galaxy', '280', 'Oak', '2769', 'Seawind', '#300', 'Apache', 'Sundown', 'Gulch', 'C', 'Sidewinder', 'Flat', 'Costa', '150', 'Oaks', '5.700', '459', 'Pflugerville', 'Northwest', 'Norte', '685', 'court', 'Calle', 'Arbolago', 'I', 'Viejo', 'Street', 'Trace', 'Hollow', 'Oltorf', 'Ps', 'Corral', 'Crestmont', 'Merimac', 'K', 'Rope', 'IH-35', 'Media', 'Blvd', '#425', 'Dog', 'Falcon', 'Germaine', 'C-200', 'Malabar', '71', 'Sage', '#600', 'Bottom', '#2', '183', '1626', 'Picadilly', 'James', 'Pl', 'Arrow', 'Maverick', '1327', 'Skyway', '973', 'Flower', 'Cutoff', '129', 'Dragon', 'Divide', 'Mustang', 'Strip', 'Alps', 'A-15', 'Ave', 'Greenway', 'Terrace', 'Tiempo', 'Sunfish', 'Green', 'Cove', 'Grotto', '#F-4', 'St.', 'Verdes', 'Triangle', 'Stakes', 'Ln', 'Place', 'Creek', 'Blackfoot', '213', 'Fork', 'Cantera', 'Amistad', 'Medalist', 'Atlantic', 'Corners', 'William', 'Challenger', 'Ridge', '1805', '290', 'Spicewood', 'End', 'G', '1100', '#104', 'Van', 'Camino', 'Quarry', 'South', 'W', '#260', 'Spur', 'Bluff', 'N', '1625', 'Range', 'Kiss', '#8', 'street', 'Castle', 'Lair', 'Stonehedge', '#L2', 'Liberty', 'Seco', 'East', '#G-145', '138', 'Wood', 'Lake', 'Path', 'Fort', '535', 'Maple', '#608', '400', 'Navajo', '100', '45', 'Parkway', 'Camelback', 'Fortuna', 'Casitas', 'Ledge', '8', 'Cliff', 'Iron', 'Limon', 'Row', 'Court', '79', 'Lonesome', '298', 'Horn', 'Alto', '3177', 'way', 'Lanes', '#100', 'Expressway', 'Dr', 'Plaza', 'Avene', 'Dorado', 'Firebird', 'St', 'Porpoise', 'Knoll', 'Branch', 'texas', 'Claro', 'Rose', 'Mohawk', '120', '7', 'Mirage', '#B100', 'Cv', 'Lane', 'Lajitas', 'Bonanza', 'Crescent', 'Hill', 'Chase', 'Explorer', 'Harborway', 'Wren', '3', 'Montana', '#306', 'Post', 'Folkway', 'H', 'View', 'Real', 'Print', 'Austin', 'Circle', 'Square', 'Overlook', 'A', 'IH35,', 'Jacinto', 'Verde', 'Capri', 'Run', 'Hat', 'Mariner', 'Criswell', 'Sky', 'Willo', 'Road,1100', 'Mirador', 'E', 'Thunder', 'D', 'Dale', '812', 'Skyline', 'Tr', 'Hall', 'Terrance', 'Highlander', 'Summit', '#311', 'Meadows', 'Walk', 'Drive', 'Hilldale', 'A500', '#406', 'Highway', 'Station', 'Crest', 'Estates', 'York', 'Island', 'Slew', 'Claw', '35', '320', '301', '163', 'F', 'Grande', 'Mesa', 'Crossing', 'Rock'}\n",
      "{'Dripping Springs', 'Round Rock, TX', 'Austin, Tx', 'Cedar Park', 'Spicewood, TX', 'Maxwell', 'Round Rock', 'Elgin', 'Barton Creek', 'Georgetown, TX', 'Creedmoor', 'Pflugerville', 'Del Valle', 'Spicewood', 'Cedar Park, TX', 'Austin', 'Elgin, TX', 'austin', 'Cedar Creek', 'Pflugerville, TX', 'Leander', 'Wimberley', 'West Lake Hills', 'Manchaca', 'Kyle', 'Dale', 'Lakeway', 'Kyle, TX', 'Bee Cave', 'Manor', 'Dripping Springs, Tx', 'Smithville', 'Austin, TX', 'Bastrop, TX', 'Bastrop', 'Ste 128, Austin', 'Westlake Hills, TX', 'Lago Vista', 'San Gabriel Village Boulevard', 'Hutto', 'Georgetown', 'Buda', 'Taylor', 'Taylor, TX'}\n",
      "\n",
      "Abundant tags in <_io.TextIOWrapper name='austin_texas.osm' mode='r' encoding='utf8'>\n",
      "{'addr:housenumber': 85724,\n",
      " 'addr:postcode': 81132,\n",
      " 'addr:street': 85703,\n",
      " 'highway': 11799}\n"
     ]
    }
   ],
   "source": [
    "# Import the libraries necessary for the project\n",
    "from collections import defaultdict, Counter\n",
    "import csv\n",
    "import numpy as np\n",
    "import re\n",
    "import pprint\n",
    "import sqlite3\n",
    "import xml.etree.cElementTree as ET\n",
    "\n",
    "# Open and name data file as global variable\n",
    "OSM_FILE = open('austin_texas.osm', 'r', encoding=\"utf8\")\n",
    "\n",
    "# Element generator for parsing individual nodes in OSM file\n",
    "def get_element(osm_file, tags=('node', 'relation')):\n",
    "    context = ET.iterparse(osm_file, events=('start', 'end'))\n",
    "    __, root = next(context)\n",
    "    for event, elem in context:\n",
    "        if event == 'end' and elem.tag in tags:\n",
    "            yield elem\n",
    "            root.clear()\n",
    "\n",
    "# Dictionary for counting tag labels\n",
    "k_tags = {}\n",
    "\n",
    "# Population tag count\n",
    "population = 0\n",
    "\n",
    "post_codes = set([])\n",
    "\n",
    "cities = set([])\n",
    "\n",
    "street_desg = set([])\n",
    "# Loop for going through tags\n",
    "for element in get_element(OSM_FILE):\n",
    "    for child in element:\n",
    "        # Try-Except for dealing with tags without labels\n",
    "        try:\n",
    "            if child.attrib['k'] == 'addr:postcode' or child.attrib['k'] == 'tiger:zip_left':\n",
    "                post_codes.add(child.get('v'))\n",
    "            if child.attrib['k'] == 'addr:street':\n",
    "                street = child.get('v')\n",
    "                if street:\n",
    "                    street_desg.add(street.split(' ')[-1])\n",
    "            if child.attrib['k'] == 'addr:city':\n",
    "                city = child.get('v')\n",
    "                if city:\n",
    "                    cities.add(city)\n",
    "            if child.attrib['k'] in k_tags:\n",
    "                k_tags[child.attrib['k']] += 1\n",
    "            else:\n",
    "                k_tags[child.attrib['k']] = 1\n",
    "        except:\n",
    "            continue    \n",
    "\n",
    "# Reduce dictionaries to abundant tags\n",
    "k_tags = {label:k_tags[label] for label in k_tags.keys() if k_tags[label] >= 10000}\n",
    "\n",
    "print(post_codes)\n",
    "print(street_desg)\n",
    "print(cities)\n",
    "print(\"\\nAbundant tags in {}\".format(OSM_FILE))\n",
    "pprint.pprint(k_tags)\n"
   ]
  },
  {
   "cell_type": "markdown",
   "metadata": {},
   "source": [
    "## Preliminary Audit Results\n",
    "\n",
    "Among the most abundant node labels are address labels, which were the focus for wrangling demonstrated in P3 lessons. \n",
    "\n",
    "Instead of focusing on correcting address data, I'll look at data that is correctly formatted but no longer current, specifically population for the primary and satellite urban centers in the focus area. Nodes marking urban centers along with the city or town name include population and place keys for populated settlements whose values are determined by population level.\n",
    "\n",
    "\n",
    "\n",
    "Tag|Population|Description\n",
    "---|----------|-----------\n",
    "place=city|100,000+|\n",
    "place=town|10,000 - 100,000|an urban settlement with local importance\n",
    "place=village|<10,000|incorporated municipality, regardless of its population\t\n",
    "place=hamlet|<100|unincorporated settlement with less than 100 inhabitants\n",
    "place=isolated_dwelling|<= 2 households|the smallest kind of human settlement\n",
    "\n"
   ]
  },
  {
   "cell_type": "code",
   "execution_count": 4,
   "metadata": {
    "collapsed": false
   },
   "outputs": [],
   "source": [
    "import csv\n",
    "\n",
    "# Create reference dictionary of 2016 estimated populations\n",
    "pop_ests = {}\n",
    "\n",
    "reader = csv.reader(open(r'2015_txpopest_place.csv'))\n",
    "\n",
    "# Read csv and write dictionary\n",
    "for row in reader:\n",
    "    pop_ests[row[1]] = [row[2], row[4]] # row[1]=place name, row[2]=2010 census data, row[4]=Texas gov 2016 pop estimate\n",
    "    "
   ]
  },
  {
   "cell_type": "code",
   "execution_count": null,
   "metadata": {
    "collapsed": true
   },
   "outputs": [],
   "source": []
  },
  {
   "cell_type": "code",
   "execution_count": 7,
   "metadata": {
    "collapsed": false
   },
   "outputs": [
    {
     "ename": "PermissionError",
     "evalue": "[WinError 32] El proceso no tiene acceso al archivo porque está siendo utilizado por otro proceso: 'C:\\\\Users\\\\User\\\\sqlite_windows\\\\p3_osm2'",
     "output_type": "error",
     "traceback": [
      "\u001b[0;31m---------------------------------------------------------------------------\u001b[0m",
      "\u001b[0;31mPermissionError\u001b[0m                           Traceback (most recent call last)",
      "\u001b[0;32m<ipython-input-7-4fd8bfed9a87>\u001b[0m in \u001b[0;36m<module>\u001b[0;34m()\u001b[0m\n\u001b[1;32m      4\u001b[0m \u001b[0mos\u001b[0m\u001b[1;33m.\u001b[0m\u001b[0mremove\u001b[0m\u001b[1;33m(\u001b[0m\u001b[1;34m'place_data.csv'\u001b[0m\u001b[1;33m)\u001b[0m\u001b[1;33m\u001b[0m\u001b[0m\n\u001b[1;32m      5\u001b[0m \u001b[0mos\u001b[0m\u001b[1;33m.\u001b[0m\u001b[0mremove\u001b[0m\u001b[1;33m(\u001b[0m\u001b[1;34m'popul_data.csv'\u001b[0m\u001b[1;33m)\u001b[0m\u001b[1;33m\u001b[0m\u001b[0m\n\u001b[0;32m----> 6\u001b[0;31m \u001b[0mos\u001b[0m\u001b[1;33m.\u001b[0m\u001b[0mremove\u001b[0m\u001b[1;33m(\u001b[0m\u001b[1;34mr'C:\\Users\\User\\sqlite_windows\\p3_osm2'\u001b[0m\u001b[1;33m)\u001b[0m\u001b[1;33m\u001b[0m\u001b[0m\n\u001b[0m",
      "\u001b[0;31mPermissionError\u001b[0m: [WinError 32] El proceso no tiene acceso al archivo porque está siendo utilizado por otro proceso: 'C:\\\\Users\\\\User\\\\sqlite_windows\\\\p3_osm2'"
     ]
    }
   ],
   "source": [
    "import os\n",
    "\n",
    "# os.remove('node_attribs.csv')\n",
    "os.remove('place_data.csv')\n",
    "os.remove('popul_data.csv')\n",
    "os.remove(r'C:\\Users\\User\\sqlite_windows\\p3_osm2')"
   ]
  },
  {
   "cell_type": "code",
   "execution_count": 8,
   "metadata": {
    "collapsed": false
   },
   "outputs": [],
   "source": [
    "# Initialize csv files \n",
    "node_csv = open('node_attribs.csv', 'w')\n",
    "write_node_csv = csv.writer(node_csv)\n",
    "\n",
    "place_csv = open('place_data.csv', 'w')\n",
    "write_place_csv = csv.writer(place_csv)\n",
    "\n",
    "popul_csv = open('popul_data.csv', 'w')\n",
    "write_popul_csv = csv.writer(popul_csv)\n",
    "\n",
    "write_node_csv.writerow(('node_id', 'user', 'uid', 'timestamp'))\n",
    "write_place_csv.writerow(('node_id', 'name', 'place', 'place_change'))\n",
    "write_popul_csv.writerow(('name', 'osm_population', 'pop_2016', 'source'))\n",
    "\n",
    "node_csv.close()\n",
    "place_csv.close()\n",
    "popul_csv.close()\n",
    "\n",
    "def write_node_data(data):\n",
    "    assert len(data) == 4\n",
    "    node_csv = open('node_attribs.csv', 'a')\n",
    "    writer = csv.writer(node_csv)\n",
    "    writer.writerow(data)\n",
    "    node_csv.close()\n",
    "    \n",
    "def write_place_data(data):\n",
    "    assert len(data) == 4\n",
    "    place_csv = open('place_data.csv', 'a')\n",
    "    writer = csv.writer(place_csv)\n",
    "    writer.writerow(data)\n",
    "    place_csv.close()\n",
    "\n",
    "def write_popul_data(data):\n",
    "    assert len(data) == 4\n",
    "    popul_csv = open('popul_data.csv', 'a')\n",
    "    writer = csv.writer(popul_csv)\n",
    "    writer.writerow(data)\n",
    "    popul_csv.close()\n",
    "\n",
    "    "
   ]
  },
  {
   "cell_type": "code",
   "execution_count": 9,
   "metadata": {
    "collapsed": false
   },
   "outputs": [],
   "source": [
    "places = {}\n",
    "\n",
    "def shape_data(data):\n",
    "    osm_pop = int(data[3])\n",
    "    name = data[0]\n",
    "    pop_2016 = int(pop_ests[name][1])\n",
    "    \n",
    "    if pop_2016 != osm_pop:\n",
    "        data[4] = int(pop_2016)\n",
    "        place = None\n",
    "        if pop_2016 < 100:\n",
    "            place = 'hamlet'\n",
    "        elif pop_2016 <10000:\n",
    "            place = 'village'\n",
    "        elif pop_2016 <100000:\n",
    "            place = 'town'\n",
    "        else:\n",
    "            place = 'city'\n",
    "        if place != data[1]:\n",
    "            data[1] = place\n",
    "            data[2] = True\n",
    "            \n",
    "    else:\n",
    "        data[4] = osm_pop\n",
    "        \n",
    "    return data"
   ]
  },
  {
   "cell_type": "code",
   "execution_count": 10,
   "metadata": {
    "collapsed": false
   },
   "outputs": [],
   "source": [
    "### Get population data from OSM file ###\n",
    "\n",
    "#Libraries\n",
    "\n",
    "import pprint\n",
    "import xml.etree.cElementTree as ET\n",
    "\n",
    "\n",
    "# Open and name data file as global variable\n",
    "FILE_NAME = 'austin_texas.osm'\n",
    "OSM_FILE = open(FILE_NAME, 'r', encoding=\"utf8\")\n",
    "\n",
    "\n",
    "# Element generator for parsing individual nodes in OSM file\n",
    "def get_element(osm_file, tags=('node', 'way')):\n",
    "    context = ET.iterparse(osm_file, events=('start', 'end'))\n",
    "    __, root = next(context)\n",
    "    for event, elem in context:\n",
    "        if event == 'end' and elem.tag in tags:\n",
    "            yield elem\n",
    "            root.clear()\n",
    "\n",
    "for element in get_element(OSM_FILE):\n",
    "    elem_id = element.get('id')\n",
    "    time_stamp_year = element.get('timestamp')[:4]\n",
    "    user = element.get('user')\n",
    "    user_id = element.get('uid')\n",
    "    node_data = [elem_id, user, user_id, time_stamp_year]\n",
    "    \n",
    "    name = None\n",
    "    place = None\n",
    "    popul = None\n",
    "    source = None\n",
    "    \n",
    "    for tag in element.iter('tag'):\n",
    "        if tag.attrib['k'] == 'name':\n",
    "            name = tag.get('v')\n",
    "        if tag.attrib['k'] == 'place':\n",
    "            place = tag.get('v')\n",
    "        if tag.attrib['k'] == 'population':\n",
    "            popul = tag.get('v') \n",
    "        if tag.attrib['k'].startswith('source:population'):\n",
    "            source = tag.get('v')\n",
    "    \n",
    "    if (name in pop_ests and popul):\n",
    "        tag_data = [name, place, False, popul, None, source] \n",
    "        tag_data = [elem_id] + shape_data(tag_data)\n",
    "        write_node_data(node_data)\n",
    "        write_place_data(tag_data[:4])\n",
    "        write_popul_data([name] + tag_data[4:])\n",
    "    "
   ]
  },
  {
   "cell_type": "code",
   "execution_count": 10,
   "metadata": {
    "collapsed": false
   },
   "outputs": [
    {
     "ename": "OperationalError",
     "evalue": "near \".\": syntax error",
     "output_type": "error",
     "traceback": [
      "\u001b[0;31m---------------------------------------------------------------------------\u001b[0m",
      "\u001b[0;31mOperationalError\u001b[0m                          Traceback (most recent call last)",
      "\u001b[0;32m<ipython-input-10-822e04c84f4e>\u001b[0m in \u001b[0;36m<module>\u001b[0;34m()\u001b[0m\n\u001b[1;32m      1\u001b[0m \u001b[0mconnect\u001b[0m \u001b[1;33m=\u001b[0m \u001b[0msqlite3\u001b[0m\u001b[1;33m.\u001b[0m\u001b[0mconnect\u001b[0m\u001b[1;33m(\u001b[0m\u001b[1;34mr'C:\\Users\\User\\sqlite_windows\\p3_osm2'\u001b[0m\u001b[1;33m)\u001b[0m\u001b[1;33m\u001b[0m\u001b[0m\n\u001b[1;32m      2\u001b[0m \u001b[0mcur\u001b[0m \u001b[1;33m=\u001b[0m \u001b[0mconnect\u001b[0m\u001b[1;33m.\u001b[0m\u001b[0mcursor\u001b[0m\u001b[1;33m(\u001b[0m\u001b[1;33m)\u001b[0m\u001b[1;33m\u001b[0m\u001b[0m\n\u001b[0;32m----> 3\u001b[0;31m \u001b[0mcur\u001b[0m\u001b[1;33m.\u001b[0m\u001b[0mexecute\u001b[0m\u001b[1;33m(\u001b[0m\u001b[1;34m'.tables'\u001b[0m\u001b[1;33m)\u001b[0m\u001b[1;33m\u001b[0m\u001b[0m\n\u001b[0m",
      "\u001b[0;31mOperationalError\u001b[0m: near \".\": syntax error"
     ]
    }
   ],
   "source": [
    "connect = sqlite3.connect(r'C:\\Users\\User\\sqlite_windows\\p3_osm2')\n",
    "cur = connect.cursor()\n",
    "cur.execute('.tables')"
   ]
  },
  {
   "cell_type": "code",
   "execution_count": 11,
   "metadata": {
    "collapsed": false
   },
   "outputs": [],
   "source": [
    "import csv, sqlite3\n",
    "import pandas as pd\n",
    "\n",
    "\n",
    "\n",
    "nodes_df = pd.read_csv(\"node_attribs.csv\")\n",
    "places_df = pd.read_csv(\"place_data.csv\")\n",
    "popul_df = pd.read_csv(\"popul_data.csv\")\n",
    "\n",
    "connect = sqlite3.connect(r'C:\\Users\\User\\sqlite_windows\\p3_osm2')\n",
    "\n",
    "cur = connect.cursor()\n",
    "cur.execute('DROP TABLE IF EXISTS settlement_nodes;')\n",
    "cur.execute('DROP TABLE IF EXISTS settlement_places;')\n",
    "cur.execute('DROP TABLE IF EXISTS settlement_popul;')\n",
    "\n",
    "nodes_df.to_sql('settlement_nodes', connect)\n",
    "places_df.to_sql('settlement_places', connect)\n",
    "popul_df.to_sql('settlement_popul', connect)\n",
    "# Initialize tables\n",
    "\n",
    "\n",
    "\n",
    "# cur = connect.cursor()\n",
    "# cur.execute(\"CREATE TABLE settlement_nodes (node_id integer PRIMARY KEY,\\\n",
    "#                                             user text,\\\n",
    "#                                             uid integer,\\\n",
    "#                                             timestamp integer);\")\n",
    "\n",
    "# cur.execute(\"CREATE TABLE settlement_tags (node_id integer,\\\n",
    "#                                            name text,\\\n",
    "#                                            place text,\\\n",
    "#                                            place_change boolean,\\\n",
    "#                                            osm_pop integer,\\\n",
    "#                                            pop_2016,\\\n",
    "#                                            source);\")\n",
    "\n",
    "# def csv_pull(data_file):\n",
    "#     to_db = []\n",
    "#     d = csv.DictReader(open(data_file))\n",
    "#     col_names = d.fieldnames\n",
    "#     for row in d:\n",
    "#         temp = tuple((row[col] for col in col_names))\n",
    "#         to_db.append(temp)\n",
    "#     return to_db\n",
    "    \n",
    "# node_to_db = csv_pull()\n",
    "\n",
    "# curs.executemany(\"INSERT INTO TX_popul_est (place, popul_2016) VALUES (?, ?);\", to_db)\n",
    "# curs.execute(\"CREATE TABLE IF NOT EXISTS OSM_Pop_Data_Nodes(node_id integer PRIMARY KEY, place text, designation text, popul integer, FOREIGN KEY(place) REFERENCES TX_popul_est(place));\")\n",
    "# curs.executemany(\"INSERT INTO OSM_Pop_Data_Nodes (node_id, place, designation, popul) VALUES(?, ?, ?, ?);\", names)\n",
    "# p3_db.commit()\n",
    "# p3_db.close()"
   ]
  },
  {
   "cell_type": "code",
   "execution_count": 11,
   "metadata": {
    "collapsed": false
   },
   "outputs": [
    {
     "ename": "AttributeError",
     "evalue": "'sqlite3.Cursor' object has no attribute 'tables'",
     "output_type": "error",
     "traceback": [
      "\u001b[0;31m---------------------------------------------------------------------------\u001b[0m",
      "\u001b[0;31mAttributeError\u001b[0m                            Traceback (most recent call last)",
      "\u001b[0;32m<ipython-input-11-e0248c407251>\u001b[0m in \u001b[0;36m<module>\u001b[0;34m()\u001b[0m\n\u001b[0;32m----> 1\u001b[0;31m \u001b[0mcur\u001b[0m\u001b[1;33m.\u001b[0m\u001b[0mtables\u001b[0m\u001b[1;33m(\u001b[0m\u001b[1;34mr'C:\\Users\\User\\sqlite_windows\\p3_osm2'\u001b[0m\u001b[1;33m)\u001b[0m\u001b[1;33m\u001b[0m\u001b[0m\n\u001b[0m",
      "\u001b[0;31mAttributeError\u001b[0m: 'sqlite3.Cursor' object has no attribute 'tables'"
     ]
    }
   ],
   "source": []
  },
  {
   "cell_type": "code",
   "execution_count": 52,
   "metadata": {
    "collapsed": false
   },
   "outputs": [
    {
     "name": "stdout",
     "output_type": "stream",
     "text": [
      "Number of revised populations = 28\n",
      "\n",
      "          Settlement  Increase  Proportion\n",
      "0      Sunset Valley       -60      -0.076\n",
      "1          Jonestown      -103      -0.049\n",
      "2               Hays         2       0.008\n",
      "3          Wimberley        42       0.016\n",
      "4      Mountain City        21       0.030\n",
      "5       Liberty Hill       128       0.085\n",
      "6            Bastrop       687       0.091\n",
      "7             Thrall        79       0.093\n",
      "8         Bear Creek        41       0.109\n",
      "9         San Leanna        56       0.115\n",
      "10            Taylor      1895       0.124\n",
      "11       Rollingwood       171       0.125\n",
      "12         Woodcreek       216       0.147\n",
      "13         Creedmoor        28       0.147\n",
      "14            Austin    131391       0.166\n",
      "15      Pflugerville      9377       0.200\n",
      "16        Round Rock     20181       0.202\n",
      "17           Lakeway      2554       0.224\n",
      "18              Kyle     10309       0.368\n",
      "19       Webberville       120       0.390\n",
      "20        Georgetown     22009       0.518\n",
      "21           Volente       213       0.553\n",
      "22          Bee Cave      2192       0.558\n",
      "23  Dripping Springs       959       0.572\n",
      "24        Briarcliff       684       0.803\n",
      "25             Hutto     12899       1.348\n",
      "26             Manor      5239       1.972\n",
      "27              Buda     10093       2.218\n",
      "\n",
      "Mean population increase = 8265.11,  Mean proportional increase = 0.3950000000000001\n",
      "\n",
      "Number of place designations changed = 1\n",
      "\n",
      "  Settlement New Designation\n",
      "0       Buda            town\n",
      "\n"
     ]
    }
   ],
   "source": [
    "import sqlite3\n",
    "import pandas as pd\n",
    "import pprint\n",
    "\n",
    "p3_db = sqlite3.connect(r'C:\\Users\\User\\sqlite_windows\\p3_osm2')\n",
    "curs = p3_db.cursor()\n",
    "curs.execute(\"SELECT COUNT(name) FROM settlement_places;\")\n",
    "n = curs.fetchone()[0]\n",
    "print(\"Number of revised populations = {}\".format(n))\n",
    "print()\n",
    "curs.execute(\"SELECT name, pop_2016 - osm_population,\\\n",
    "                     round(((pop_2016 - osm_population)/(osm_population*1.0)), 3) AS proportion\\\n",
    "                     FROM settlement_popul \\\n",
    "                     ORDER BY proportion;\")\n",
    "settlements = curs.fetchall()\n",
    "settlements_df = pd.DataFrame(settlements, columns=('Settlement', 'Increase', 'Proportion'))\n",
    "print(settlements_df)\n",
    "print()\n",
    "curs.execute(\"SELECT round(avg(pop_2016 - osm_population), 2) AS average_increase,\\\n",
    "                     avg(1.0 * round(((pop_2016 - osm_population)/(1.0 * osm_population)), 2)) AS proportion\\\n",
    "                     FROM settlement_popul;\")\n",
    "incr_avg, prop_avg = curs.fetchone()\n",
    "print(\"Mean population increase = {},  Mean proportional increase = {}\".format(incr_avg, prop_avg))\n",
    "print()\n",
    "curs.execute(\"SELECT sum(place_change) AS Place_Changes FROM settlement_places;\")\n",
    "n_place_change = curs.fetchone()[0]\n",
    "\n",
    "print(\"Number of place designations changed = {}\".format(n_place_change))\n",
    "print()\n",
    "curs.execute(\"SELECT name, place FROM settlement_places WHERE place_change == 1\")\n",
    "place_change = curs.fetchall()\n",
    "place_change_df = pd.DataFrame(place_change, columns=('Settlement', 'New Designation'))\n",
    "print(place_change_df)\n",
    "print()\n",
    "\n"
   ]
  },
  {
   "cell_type": "code",
   "execution_count": null,
   "metadata": {
    "collapsed": true
   },
   "outputs": [],
   "source": []
  }
 ],
 "metadata": {
  "anaconda-cloud": {},
  "kernelspec": {
   "display_name": "Python [default]",
   "language": "python",
   "name": "python3"
  },
  "language_info": {
   "codemirror_mode": {
    "name": "ipython",
    "version": 3
   },
   "file_extension": ".py",
   "mimetype": "text/x-python",
   "name": "python",
   "nbconvert_exporter": "python",
   "pygments_lexer": "ipython3",
   "version": "3.5.2"
  }
 },
 "nbformat": 4,
 "nbformat_minor": 2
}
